{
 "cells": [
  {
   "cell_type": "code",
   "execution_count": 381,
   "metadata": {},
   "outputs": [],
   "source": [
    "# Standard library imports\n",
    "from typing import TypedDict, Annotated\n",
    "from typing_extensions import Literal, Union\n",
    "\n",
    "from pydantic import BaseModel, Field\n",
    "from IPython.display import Image\n",
    "\n",
    "from uuid import UUID, uuid4\n",
    "from pprint import pp as pprint\n",
    "\n",
    "from langchain.prompts import ChatPromptTemplate\n",
    "from langchain_openai import ChatOpenAI\n",
    "from langchain_anthropic import ChatAnthropic\n",
    "from langchain_core.output_parsers.string import StrOutputParser\n",
    "from langchain_text_splitters import CharacterTextSplitter\n",
    "\n",
    "from langgraph.graph import StateGraph, START, END\n",
    "from langgraph.types import Send\n",
    "from langgraph.checkpoint.memory import MemorySaver"
   ]
  },
  {
   "cell_type": "code",
   "execution_count": 382,
   "metadata": {},
   "outputs": [],
   "source": [
    "from prompts.prompts import language_translation_system_prompt\n",
    "from collections import defaultdict\n"
   ]
  },
  {
   "cell_type": "code",
   "execution_count": 386,
   "metadata": {},
   "outputs": [],
   "source": [
    "llm_fast = ChatOpenAI(model=\"gpt-4o-mini\")\n",
    "llm_slow = ChatOpenAI(model=\"gpt-4o\")\n",
    "llm_anthropic = ChatAnthropic(model=\"claude-3-5-sonnet-20241022\")"
   ]
  },
  {
   "cell_type": "code",
   "execution_count": 387,
   "metadata": {},
   "outputs": [],
   "source": [
    "langage_translation_prompt = ChatPromptTemplate(\n",
    "    [\n",
    "        ('system',language_translation_system_prompt),\n",
    "        ('human','{input}')\n",
    "     ]\n",
    ")\n",
    "\n",
    "chain = langage_translation_prompt | llm_anthropic | StrOutputParser()"
   ]
  },
  {
   "cell_type": "code",
   "execution_count": 388,
   "metadata": {},
   "outputs": [],
   "source": [
    "def set_translation(state: dict, translation: tuple) -> dict:\n",
    "    key, value = translation\n",
    "    state[key] = value\n",
    "    return state\n",
    "\n",
    "def string_extender(existing_dict: dict, new_value: tuple) -> dict:\n",
    "    key, value = new_value\n",
    "    if key in existing_dict:\n",
    "        existing_dict[key] = existing_dict[key] + value  # Append to existing string\n",
    "    else:\n",
    "        existing_dict[key] = value  # Create new entry\n",
    "    return existing_dict\n",
    "\n",
    "\n",
    "def replace(s:str)->str:\n",
    "    return s\n",
    "\n"
   ]
  },
  {
   "cell_type": "code",
   "execution_count": 389,
   "metadata": {},
   "outputs": [],
   "source": [
    "class State(BaseModel):\n",
    "    languages: list[str] = Field(default_factory=list,description=\"The languages to use to translate\")\n",
    "\n",
    "    original_text: str = \"\"\n",
    "\n",
    "    translations: dict = Field(default_factory=dict)\n",
    "    character_split: str = \"\\n\"\n",
    "    chunk_size: int = 2000\n",
    "\n",
    "class TranslateFullState(BaseModel):\n",
    "    language: str = \"\"\n",
    "    original_text: str =\"\"\n",
    "    character_split: str = \"\\n\"\n",
    "    chunk_size: int = 2000\n",
    "\n",
    "    translations_d : Annotated[dict,string_extender] = Field(default_factory=dict)\n",
    "\n",
    "class TranslatePartState(BaseModel):\n",
    "    character_split: str = \"\\n\"\n",
    "    language: str = \"\"\n",
    "    text: str = \"\" \n",
    "    index: int "
   ]
  },
  {
   "cell_type": "code",
   "execution_count": 399,
   "metadata": {},
   "outputs": [],
   "source": [
    "def send_translation_requests(state: State):\n",
    "    #print(state.languages)\n",
    "\n",
    "    send_list = []\n",
    "    for language in state.languages:\n",
    "        text_splitter= CharacterTextSplitter(\n",
    "            separator=state.character_split,\n",
    "            chunk_size=5,#state.chunk_size,\n",
    "            chunk_overlap=0,\n",
    "            length_function=len,\n",
    "            is_separator_regex=False\n",
    "        )   \n",
    "        #print(state)\n",
    "        #print(\"language:\", language)\n",
    "        documents = text_splitter.create_documents(\n",
    "            [state.original_text]\n",
    "        )\n",
    "        send_list += [Send(\"translate_chunk\",{\"language\":language,\n",
    "                        \"text\":page.page_content,\n",
    "                        \"index\":i,\n",
    "                        \"character_split\":state.character_split}) for i,page in enumerate(documents)]\n",
    "    print(\"SEND LIST IS: \", send_list)\n",
    "    return send_list\n",
    "\n",
    "def placeholder(state:TranslateFullState):\n",
    "    #print(state)\n",
    "    return {}\n",
    "\n",
    "def send_chunks(state:TranslateFullState):\n",
    "    \n",
    "    text_splitter= CharacterTextSplitter(\n",
    "        separator=state.character_split,\n",
    "        chunk_size=2000,#state.chunk_size,\n",
    "        chunk_overlap=0,\n",
    "        length_function=len,\n",
    "        is_separator_regex=False\n",
    "    )\n",
    "    #print(state)\n",
    "    print(\"language:\", state.language)\n",
    "    documents = text_splitter.create_documents(\n",
    "        [state.original_text]\n",
    "    )\n",
    "\n",
    "    return [ \n",
    "        Send(\"translate_chunk\",{\"language\":state.language,\n",
    "                        \"text\":page.page_content,\n",
    "                        \"index\":i}) for i,page in enumerate(documents)\n",
    "    ]\n",
    "\n",
    "\n",
    "def translate_chunk(state: TranslatePartState):\n",
    "\n",
    "    state = TranslatePartState(**state)\n",
    "    chunk = state.text\n",
    "    language = state.language \n",
    "\n",
    "    output = chain.invoke({\"language\":language,\"input\":chunk})\n",
    "\n",
    "    return { \n",
    "        \"translations_d\": (language,output+state.character_split)\n",
    "    }\n",
    "\n",
    "\n",
    "def combine_chunks(state: TranslateFullState):\n",
    "    return {\n",
    "        \"translations\":state.translations_d\n",
    "        }"
   ]
  },
  {
   "cell_type": "code",
   "execution_count": 400,
   "metadata": {},
   "outputs": [],
   "source": [
    "builder = StateGraph(State)\n"
   ]
  },
  {
   "cell_type": "code",
   "execution_count": 401,
   "metadata": {},
   "outputs": [
    {
     "data": {
      "text/plain": [
       "<langgraph.graph.state.StateGraph at 0x7f617df69b50>"
      ]
     },
     "execution_count": 401,
     "metadata": {},
     "output_type": "execute_result"
    }
   ],
   "source": [
    "\n",
    "builder.add_node(\"translate_chunk\",translate_chunk)\n",
    "builder.add_node(\"combine_chunks\",combine_chunks)\n",
    "#builder.add_node(\"placeholder\",placeholder)\n",
    "\n",
    "builder.add_conditional_edges(START,send_translation_requests,{\"translate_chunk\":\"translate_chunk\"}) # unless we cna combine state sends? \n",
    "#builder.add_conditional_edges(\"placeholder\",send_chunks,{}\"translate_chunk\"])\n",
    "builder.add_edge(\"translate_chunk\",\"combine_chunks\")\n",
    "builder.add_edge(\"combine_chunks\",END)\n"
   ]
  },
  {
   "cell_type": "code",
   "execution_count": 402,
   "metadata": {},
   "outputs": [],
   "source": [
    "memory = MemorySaver()\n",
    "thread_config = {\"configurable\": {\"thread_id\": uuid4()}}\n",
    "graph = builder.compile(checkpointer=memory)"
   ]
  },
  {
   "cell_type": "code",
   "execution_count": 403,
   "metadata": {},
   "outputs": [
    {
     "data": {
      "image/png": "[encoded data removed]",
      "text/plain": [
       "<IPython.core.display.Image object>"
      ]
     },
     "execution_count": 403,
     "metadata": {},
     "output_type": "execute_result"
    }
   ],
   "source": [
    "Image(graph.get_graph().draw_png())"
   ]
  },
  {
   "cell_type": "markdown",
   "metadata": {},
   "source": [
    "## Lets try it"
   ]
  },
  {
   "cell_type": "code",
   "execution_count": 404,
   "metadata": {},
   "outputs": [],
   "source": [
    "text = \"\"\"\n",
    "The Metamorphosis might not \"click\" unless you've experienced the kind of dissociation from reality Kafka is describing. \n",
    "It also requires you to read the story abstractly—it’s less about what happens and more about how it happens, or why it happens. \n",
    "If you’re looking for a straightforward story, Kafka’s stuff will probably frustrate you, because the disorienting, anxious effect \n",
    "is intentional.\n",
    "\n",
    "Kafka’s work explores alienation, anxiety, and seeking meaning in a universe that seemingly lacks any. \n",
    "There are a bunch of ways to pick through those themes: What is alienation? Is it personal, social, moral, practical, etc? \n",
    "That is, is Gregor a “monstrous vermin/bug” because of anything he did—or because of how he thinks about himself—or how his \n",
    "family thinks about and treats him—or how society treats him—or for genuine practical reasons, like the way his “metamorphosis” \n",
    "impairs his body and physical abilities? The metamorphosis is a source of anxiety—but is it really? Is it the actual change itself \n",
    "that causes Gregor anxiety, or is it the expectations he places on himself (e.g. the clash of trying to do his old normal job as \n",
    "if he still had his old normal body), or is it the expectations his family/society places on him? Is the metamorphosis really as \n",
    "meaningless and random as it seems? Or is it a reflection of something deeper? After all, his family seems mildly shocked at first, \n",
    "but all things considered they go back to treating him roughly the same as before. One of the messages you could take from the Metamorphosis \n",
    "is that every “random/meaningless shock” in your conception of reality is actually a wake up call, a reflection of a deeper reality you have \n",
    "been able to ignore so far by keeping busy with the surface practicalities. Or you could read it as a black comedy. Or an absurd tragedy. \n",
    "Or etc. It might be easier to focus less on what the story says, and more on how you read it, and why you read it that way, and what \n",
    "that can tell you about yourself.\n",
    "\"\"\""
   ]
  },
  {
   "cell_type": "code",
   "execution_count": 405,
   "metadata": {},
   "outputs": [],
   "source": [
    "initial_state = {\n",
    "    \"character_split\":\".\",\n",
    "    \"languages\":[\"Albanian\",\"Italian\",\"French\"],\n",
    "    \"original_text\":text,\n",
    "}"
   ]
  },
  {
   "cell_type": "code",
   "execution_count": null,
   "metadata": {},
   "outputs": [],
   "source": []
  },
  {
   "cell_type": "code",
   "execution_count": 406,
   "metadata": {},
   "outputs": [
    {
     "name": "stderr",
     "output_type": "stream",
     "text": [
      "Created a chunk of size 120, which is longer than the specified 5\n",
      "Created a chunk of size 129, which is longer than the specified 5\n",
      "Created a chunk of size 148, which is longer than the specified 5\n",
      "Created a chunk of size 103, which is longer than the specified 5\n",
      "Created a chunk of size 589, which is longer than the specified 5\n",
      "Created a chunk of size 394, which is longer than the specified 5\n",
      "Created a chunk of size 276, which is longer than the specified 5\n",
      "Created a chunk of size 39, which is longer than the specified 5\n",
      "Created a chunk of size 21, which is longer than the specified 5\n",
      "Created a chunk of size 8, which is longer than the specified 5\n",
      "Created a chunk of size 159, which is longer than the specified 5\n",
      "Created a chunk of size 120, which is longer than the specified 5\n",
      "Created a chunk of size 129, which is longer than the specified 5\n",
      "Created a chunk of size 148, which is longer than the specified 5\n",
      "Created a chunk of size 103, which is longer than the specified 5\n",
      "Created a chunk of size 589, which is longer than the specified 5\n",
      "Created a chunk of size 394, which is longer than the specified 5\n",
      "Created a chunk of size 276, which is longer than the specified 5\n",
      "Created a chunk of size 39, which is longer than the specified 5\n",
      "Created a chunk of size 21, which is longer than the specified 5\n",
      "Created a chunk of size 8, which is longer than the specified 5\n",
      "Created a chunk of size 159, which is longer than the specified 5\n",
      "Created a chunk of size 120, which is longer than the specified 5\n",
      "Created a chunk of size 129, which is longer than the specified 5\n",
      "Created a chunk of size 148, which is longer than the specified 5\n",
      "Created a chunk of size 103, which is longer than the specified 5\n",
      "Created a chunk of size 589, which is longer than the specified 5\n",
      "Created a chunk of size 394, which is longer than the specified 5\n",
      "Created a chunk of size 276, which is longer than the specified 5\n",
      "Created a chunk of size 39, which is longer than the specified 5\n",
      "Created a chunk of size 21, which is longer than the specified 5\n",
      "Created a chunk of size 8, which is longer than the specified 5\n",
      "Created a chunk of size 159, which is longer than the specified 5\n"
     ]
    },
    {
     "name": "stdout",
     "output_type": "stream",
     "text": [
      "SEND LIST IS:  [Send(node='translate_chunk', arg={'language': 'Albanian', 'text': 'The Metamorphosis might not \"click\" unless you\\'ve experienced the kind of dissociation from reality Kafka is describing', 'index': 0, 'character_split': '.'}), Send(node='translate_chunk', arg={'language': 'Albanian', 'text': 'It also requires you to read the story abstractly—it’s less about what happens and more about how it happens, or why it happens', 'index': 1, 'character_split': '.'}), Send(node='translate_chunk', arg={'language': 'Albanian', 'text': 'If you’re looking for a straightforward story, Kafka’s stuff will probably frustrate you, because the disorienting, anxious effect \\nis intentional', 'index': 2, 'character_split': '.'}), Send(node='translate_chunk', arg={'language': 'Albanian', 'text': 'Kafka’s work explores alienation, anxiety, and seeking meaning in a universe that seemingly lacks any', 'index': 3, 'character_split': '.'}), Send(node='translate_chunk', arg={'language': 'Albanian', 'text': 'There are a bunch of ways to pick through those themes: What is alienation? Is it personal, social, moral, practical, etc? \\nThat is, is Gregor a “monstrous vermin/bug” because of anything he did—or because of how he thinks about himself—or how his \\nfamily thinks about and treats him—or how society treats him—or for genuine practical reasons, like the way his “metamorphosis” \\nimpairs his body and physical abilities? The metamorphosis is a source of anxiety—but is it really? Is it the actual change itself \\nthat causes Gregor anxiety, or is it the expectations he places on himself (e', 'index': 4, 'character_split': '.'}), Send(node='translate_chunk', arg={'language': 'Albanian', 'text': 'g', 'index': 5, 'character_split': '.'}), Send(node='translate_chunk', arg={'language': 'Albanian', 'text': 'the clash of trying to do his old normal job as \\nif he still had his old normal body), or is it the expectations his family/society places on him? Is the metamorphosis really as \\nmeaningless and random as it seems? Or is it a reflection of something deeper? After all, his family seems mildly shocked at first, \\nbut all things considered they go back to treating him roughly the same as before', 'index': 6, 'character_split': '.'}), Send(node='translate_chunk', arg={'language': 'Albanian', 'text': 'One of the messages you could take from the Metamorphosis \\nis that every “random/meaningless shock” in your conception of reality is actually a wake up call, a reflection of a deeper reality you have \\nbeen able to ignore so far by keeping busy with the surface practicalities', 'index': 7, 'character_split': '.'}), Send(node='translate_chunk', arg={'language': 'Albanian', 'text': 'Or you could read it as a black comedy', 'index': 8, 'character_split': '.'}), Send(node='translate_chunk', arg={'language': 'Albanian', 'text': 'Or an absurd tragedy', 'index': 9, 'character_split': '.'}), Send(node='translate_chunk', arg={'language': 'Albanian', 'text': 'Or etc', 'index': 10, 'character_split': '.'}), Send(node='translate_chunk', arg={'language': 'Albanian', 'text': 'It might be easier to focus less on what the story says, and more on how you read it, and why you read it that way, and what \\nthat can tell you about yourself', 'index': 11, 'character_split': '.'}), Send(node='translate_chunk', arg={'language': 'Italian', 'text': 'The Metamorphosis might not \"click\" unless you\\'ve experienced the kind of dissociation from reality Kafka is describing', 'index': 0, 'character_split': '.'}), Send(node='translate_chunk', arg={'language': 'Italian', 'text': 'It also requires you to read the story abstractly—it’s less about what happens and more about how it happens, or why it happens', 'index': 1, 'character_split': '.'}), Send(node='translate_chunk', arg={'language': 'Italian', 'text': 'If you’re looking for a straightforward story, Kafka’s stuff will probably frustrate you, because the disorienting, anxious effect \\nis intentional', 'index': 2, 'character_split': '.'}), Send(node='translate_chunk', arg={'language': 'Italian', 'text': 'Kafka’s work explores alienation, anxiety, and seeking meaning in a universe that seemingly lacks any', 'index': 3, 'character_split': '.'}), Send(node='translate_chunk', arg={'language': 'Italian', 'text': 'There are a bunch of ways to pick through those themes: What is alienation? Is it personal, social, moral, practical, etc? \\nThat is, is Gregor a “monstrous vermin/bug” because of anything he did—or because of how he thinks about himself—or how his \\nfamily thinks about and treats him—or how society treats him—or for genuine practical reasons, like the way his “metamorphosis” \\nimpairs his body and physical abilities? The metamorphosis is a source of anxiety—but is it really? Is it the actual change itself \\nthat causes Gregor anxiety, or is it the expectations he places on himself (e', 'index': 4, 'character_split': '.'}), Send(node='translate_chunk', arg={'language': 'Italian', 'text': 'g', 'index': 5, 'character_split': '.'}), Send(node='translate_chunk', arg={'language': 'Italian', 'text': 'the clash of trying to do his old normal job as \\nif he still had his old normal body), or is it the expectations his family/society places on him? Is the metamorphosis really as \\nmeaningless and random as it seems? Or is it a reflection of something deeper? After all, his family seems mildly shocked at first, \\nbut all things considered they go back to treating him roughly the same as before', 'index': 6, 'character_split': '.'}), Send(node='translate_chunk', arg={'language': 'Italian', 'text': 'One of the messages you could take from the Metamorphosis \\nis that every “random/meaningless shock” in your conception of reality is actually a wake up call, a reflection of a deeper reality you have \\nbeen able to ignore so far by keeping busy with the surface practicalities', 'index': 7, 'character_split': '.'}), Send(node='translate_chunk', arg={'language': 'Italian', 'text': 'Or you could read it as a black comedy', 'index': 8, 'character_split': '.'}), Send(node='translate_chunk', arg={'language': 'Italian', 'text': 'Or an absurd tragedy', 'index': 9, 'character_split': '.'}), Send(node='translate_chunk', arg={'language': 'Italian', 'text': 'Or etc', 'index': 10, 'character_split': '.'}), Send(node='translate_chunk', arg={'language': 'Italian', 'text': 'It might be easier to focus less on what the story says, and more on how you read it, and why you read it that way, and what \\nthat can tell you about yourself', 'index': 11, 'character_split': '.'}), Send(node='translate_chunk', arg={'language': 'French', 'text': 'The Metamorphosis might not \"click\" unless you\\'ve experienced the kind of dissociation from reality Kafka is describing', 'index': 0, 'character_split': '.'}), Send(node='translate_chunk', arg={'language': 'French', 'text': 'It also requires you to read the story abstractly—it’s less about what happens and more about how it happens, or why it happens', 'index': 1, 'character_split': '.'}), Send(node='translate_chunk', arg={'language': 'French', 'text': 'If you’re looking for a straightforward story, Kafka’s stuff will probably frustrate you, because the disorienting, anxious effect \\nis intentional', 'index': 2, 'character_split': '.'}), Send(node='translate_chunk', arg={'language': 'French', 'text': 'Kafka’s work explores alienation, anxiety, and seeking meaning in a universe that seemingly lacks any', 'index': 3, 'character_split': '.'}), Send(node='translate_chunk', arg={'language': 'French', 'text': 'There are a bunch of ways to pick through those themes: What is alienation? Is it personal, social, moral, practical, etc? \\nThat is, is Gregor a “monstrous vermin/bug” because of anything he did—or because of how he thinks about himself—or how his \\nfamily thinks about and treats him—or how society treats him—or for genuine practical reasons, like the way his “metamorphosis” \\nimpairs his body and physical abilities? The metamorphosis is a source of anxiety—but is it really? Is it the actual change itself \\nthat causes Gregor anxiety, or is it the expectations he places on himself (e', 'index': 4, 'character_split': '.'}), Send(node='translate_chunk', arg={'language': 'French', 'text': 'g', 'index': 5, 'character_split': '.'}), Send(node='translate_chunk', arg={'language': 'French', 'text': 'the clash of trying to do his old normal job as \\nif he still had his old normal body), or is it the expectations his family/society places on him? Is the metamorphosis really as \\nmeaningless and random as it seems? Or is it a reflection of something deeper? After all, his family seems mildly shocked at first, \\nbut all things considered they go back to treating him roughly the same as before', 'index': 6, 'character_split': '.'}), Send(node='translate_chunk', arg={'language': 'French', 'text': 'One of the messages you could take from the Metamorphosis \\nis that every “random/meaningless shock” in your conception of reality is actually a wake up call, a reflection of a deeper reality you have \\nbeen able to ignore so far by keeping busy with the surface practicalities', 'index': 7, 'character_split': '.'}), Send(node='translate_chunk', arg={'language': 'French', 'text': 'Or you could read it as a black comedy', 'index': 8, 'character_split': '.'}), Send(node='translate_chunk', arg={'language': 'French', 'text': 'Or an absurd tragedy', 'index': 9, 'character_split': '.'}), Send(node='translate_chunk', arg={'language': 'French', 'text': 'Or etc', 'index': 10, 'character_split': '.'}), Send(node='translate_chunk', arg={'language': 'French', 'text': 'It might be easier to focus less on what the story says, and more on how you read it, and why you read it that way, and what \\nthat can tell you about yourself', 'index': 11, 'character_split': '.'})]\n"
     ]
    }
   ],
   "source": [
    "output_state = graph.invoke(initial_state,config=thread_config)"
   ]
  },
  {
   "cell_type": "code",
   "execution_count": 408,
   "metadata": {},
   "outputs": [
    {
     "name": "stdout",
     "output_type": "stream",
     "text": [
      "\"Metamorfoza\" ndoshta nuk do të ketë kuptim për ty, përveç nëse e ke përjetuar vetë atë shkëputje nga realiteti që përshkruan Kafka.Gjithashtu kërkon që ta lexosh historinë në mënyrë abstrakte - nuk është aq shumë se çfarë ndodh, por më tepër se si ndodh, ose pse ndodh.Nëse je duke kërkuar një histori të thjeshtë e të drejtpërdrejtë, veprat e Kafkës me siguri do të të bëjnë nervoz, sepse ndjenja e humbjes së drejtimit dhe ankthit është e qëllimshme.Veprat e Kafkës hulumtojnë ndjenjën e huajësimit, ankthin dhe kërkimin e kuptimit në një gjithësi që në dukje nuk ka asnjë domethënie.Ka shumë mënyra për të analizuar këto tema: Çfarë është tjetërsimi? A është personal, shoqëror, moral, praktik e kështu me radhë? \n",
      "Domethënë, a është Gregori një \"insekt i neveritshëm\" për shkak të diçkaje që ka bërë - apo për mënyrën se si e sheh veten - apo për mënyrën \n",
      "se si familja e tij mendon dhe sillet me të - apo për mënyrën se si shoqëria e trajton - apo për arsye thjesht praktike, si mënyra se si \n",
      "\"metamorfoza\" e tij dëmton trupin dhe aftësitë e tij fizike? Metamorfoza është burim ankthi - por a është vërtet? A është vetë ndryshimi \n",
      "fizik ai që i shkakton ankth Gregorit, apo janë pritshmëritë që ai i vë vetes?.Nuk ka ndonjë tekst për të përkthyer..përplasja e përpjekjes për të bërë punën e tij të mëparshme sikur të kishte ende trupin e tij normal), apo janë pritshmëritë që familja dhe shoqëria i vendosin? A është metamorfoza vërtet aq e pakuptimtë dhe e rastësishme sa duket? Apo është pasqyrim i diçkaje më të thellë? Në fund të fundit, familja e tij në fillim duket pak e tronditur, por duke marrë parasysh gjithçka, ata vazhdojnë ta trajtojnë përafërsisht njësoj si më parë.Një nga mesazhet që mund të nxirrni nga Metamorfoza është që çdo \"tronditje e rastësishme/pa kuptim\" në perceptimin tuaj të realitetit është në të vërtetë një thirrje zgjimi, një pasqyrim i një realiteti më të thellë të cilin keni arritur ta shpërfillni deri tani duke u marrë me sipërfaqësinë e gjërave të përditshme..Ose mund ta shohësh si një komedi të zezë.Ose një tragjedi e marrë.Ose e të tjera.Ndoshta do të ishte më mirë të mos përqendrohemi aq shumë tek ajo që thotë historia, por më tepër tek mënyra se si e lexojmë, pse e lexojmë pikërisht në atë mënyrë, dhe çfarë na tregon kjo për veten tonë.\n"
     ]
    }
   ],
   "source": [
    "print(output_state['translations']['Albanian'])"
   ]
  },
  {
   "cell_type": "code",
   "execution_count": null,
   "metadata": {},
   "outputs": [],
   "source": []
  }
 ],
 "metadata": {
  "kernelspec": {
   "display_name": "venv",
   "language": "python",
   "name": "python3"
  },
  "language_info": {
   "codemirror_mode": {
    "name": "ipython",
    "version": 3
   },
   "file_extension": ".py",
   "mimetype": "text/x-python",
   "name": "python",
   "nbconvert_exporter": "python",
   "pygments_lexer": "ipython3",
   "version": "3.11.9"
  }
 },
 "nbformat": 4,
 "nbformat_minor": 2
}
