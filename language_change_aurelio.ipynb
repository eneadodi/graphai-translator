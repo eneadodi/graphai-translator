{
 "cells": [
  {
   "cell_type": "code",
   "execution_count": 1,
   "metadata": {},
   "outputs": [],
   "source": [
    "import os\n",
    "from getpass import getpass\n",
    "\n",
    "os.environ[\"OPENAI_API_KEY\"] = os.getenv(\"OPENAI_API_KEY\") or getpass(\n",
    "    \"Enter OpenAI API Key: \"\n",
    ")"
   ]
  },
  {
   "cell_type": "code",
   "execution_count": 2,
   "metadata": {},
   "outputs": [
    {
     "name": "stderr",
     "output_type": "stream",
     "text": [
      "/home/bababako/side_projects/llm_projects/venv2/lib/python3.11/site-packages/tqdm/auto.py:21: TqdmWarning: IProgress not found. Please update jupyter and ipywidgets. See https://ipywidgets.readthedocs.io/en/stable/user_install.html\n",
      "  from .autonotebook import tqdm as notebook_tqdm\n"
     ]
    }
   ],
   "source": [
    "from graphai import node, router, Graph\n",
    "from langchain_openai import ChatOpenAI\n",
    "from langchain.prompts import ChatPromptTemplate\n",
    "from langchain_core.output_parsers.string import StrOutputParser\n",
    "from langchain_text_splitters import CharacterTextSplitter\n",
    "from pydantic import BaseModel, Field\n",
    "import asyncio"
   ]
  },
  {
   "cell_type": "code",
   "execution_count": 3,
   "metadata": {},
   "outputs": [],
   "source": [
    "from prompts.prompts import language_translation_system_prompt\n"
   ]
  },
  {
   "cell_type": "code",
   "execution_count": 4,
   "metadata": {},
   "outputs": [],
   "source": [
    "class State(BaseModel):\n",
    "    languages: list[str] = Field(default_factory=list)\n",
    "    original_text: str = \"\"\n",
    "    translations: dict = Field(default_factory=dict)\n",
    "    character_split: str = \"\\n\"\n",
    "    chunk_size: int = 2000\n"
   ]
  },
  {
   "cell_type": "code",
   "execution_count": 5,
   "metadata": {},
   "outputs": [],
   "source": [
    "llm_fast = ChatOpenAI(model=\"gpt-4o-mini\")\n",
    "\n",
    "language_translation_prompt = ChatPromptTemplate([\n",
    "    ('system', language_translation_system_prompt),\n",
    "    ('human', '{input}')\n",
    "])\n",
    "chain = language_translation_prompt | llm_fast | StrOutputParser()\n"
   ]
  },
  {
   "cell_type": "code",
   "execution_count": 6,
   "metadata": {},
   "outputs": [],
   "source": [
    "@node(start=True)\n",
    "async def node_start(languages: list, original_text: str, character_split: str = \"\\n\"):\n",
    "    \"\"\"Start node that initializes processing\"\"\"\n",
    "    print('a')\n",
    "    return {\n",
    "        \"languages\": languages,\n",
    "        \"original_text\": original_text,\n",
    "        \"character_split\": character_split\n",
    "    }\n",
    "\n",
    "\n",
    "@router\n",
    "async def translation_router(languages: list, original_text: str, character_split: str):\n",
    "    \"\"\"Router that prepares chunks for translation\"\"\"\n",
    "    print('b')\n",
    "    text_splitter = CharacterTextSplitter(\n",
    "            separator=character_split,\n",
    "            chunk_size=5,\n",
    "            chunk_overlap=0,\n",
    "            length_function=len,\n",
    "            is_separator_regex=False\n",
    "        )\n",
    "    \n",
    "    documents = text_splitter.create_documents([original_text])\n",
    "    # Return choice and state\n",
    "    route = {\n",
    "        \"choice\": \"translate_chunk\",\n",
    "        \"chunks\": [\n",
    "            {\n",
    "                \"language\": lang,\n",
    "                \"text\": page.page_content,\n",
    "                \"character_split\": character_split\n",
    "            }\n",
    "            for lang in languages\n",
    "            for page in documents\n",
    "        ]\n",
    "    }\n",
    "\n",
    "    print(\"router is returning: \", route)\n",
    "\n",
    "    # Route to translate_chunk with all necessary data\n",
    "    return route \n",
    "\n",
    "@node(stream=True)\n",
    "async def translate_chunk(chunks: list, callback = None):\n",
    "    \"\"\"Translate chunks in parallel\"\"\"\n",
    "    async def process_chunk(chunk):\n",
    "        output = await chain.ainvoke({\n",
    "            \"language\": chunk[\"language\"],\n",
    "            \"input\": chunk[\"text\"]\n",
    "        })\n",
    "        if callback:\n",
    "            await callback.acall(f\"Translated chunk for {chunk['language']}\")\n",
    "        return (chunk[\"language\"], output + chunk[\"character_split\"])\n",
    "\n",
    "    # Process all chunks in parallel\n",
    "    results = await asyncio.gather(*[process_chunk(chunk) for chunk in chunks])\n",
    "    \n",
    "    # Combine results\n",
    "    translations = {}\n",
    "    for language, translation in results:\n",
    "        if language not in translations:\n",
    "            translations[language] = \"\"\n",
    "        translations[language] += translation\n",
    "\n",
    "    return {\"translations\": translations}\n",
    "\n",
    "\n",
    "@node(end=True)\n",
    "async def node_end(translations: dict):\n",
    "    \"\"\"Final node that returns translations\"\"\"\n",
    "    return {\"output\": translations}\n"
   ]
  },
  {
   "cell_type": "code",
   "execution_count": 7,
   "metadata": {},
   "outputs": [],
   "source": [
    "text = \"\"\"\n",
    "The Metamorphosis might not \"click\" unless you've experienced the kind of dissociation from reality Kafka is describing. \n",
    "It also requires you to read the story abstractly—it’s less about what happens and more about how it happens, or why it happens. \n",
    "If you’re looking for a straightforward story, Kafka’s stuff will probably frustrate you, because the disorienting, anxious effect \n",
    "is intentional.\n",
    "\n",
    "Kafka’s work explores alienation, anxiety, and seeking meaning in a universe that seemingly lacks any. \n",
    "There are a bunch of ways to pick through those themes: What is alienation? Is it personal, social, moral, practical, etc? \n",
    "That is, is Gregor a “monstrous vermin/bug” because of anything he did—or because of how he thinks about himself—or how his \n",
    "family thinks about and treats him—or how society treats him—or for genuine practical reasons, like the way his “metamorphosis” \n",
    "impairs his body and physical abilities? The metamorphosis is a source of anxiety—but is it really? Is it the actual change itself \n",
    "that causes Gregor anxiety, or is it the expectations he places on himself (e.g. the clash of trying to do his old normal job as \n",
    "if he still had his old normal body), or is it the expectations his family/society places on him? Is the metamorphosis really as \n",
    "meaningless and random as it seems? Or is it a reflection of something deeper? After all, his family seems mildly shocked at first, \n",
    "but all things considered they go back to treating him roughly the same as before. One of the messages you could take from the Metamorphosis \n",
    "is that every “random/meaningless shock” in your conception of reality is actually a wake up call, a reflection of a deeper reality you have \n",
    "been able to ignore so far by keeping busy with the surface practicalities. Or you could read it as a black comedy. Or an absurd tragedy. \n",
    "Or etc. It might be easier to focus less on what the story says, and more on how you read it, and why you read it that way, and what \n",
    "that can tell you about yourself.\n",
    "\"\"\""
   ]
  },
  {
   "cell_type": "code",
   "execution_count": 8,
   "metadata": {},
   "outputs": [
    {
     "name": "stderr",
     "output_type": "stream",
     "text": [
      "2025-01-05 16:00:41 - langchain_text_splitters.base - WARNING - base.py:122 - _merge_splits() - Created a chunk of size 120, which is longer than the specified 5\n",
      "2025-01-05 16:00:41 - langchain_text_splitters.base - WARNING - base.py:122 - _merge_splits() - Created a chunk of size 129, which is longer than the specified 5\n",
      "2025-01-05 16:00:41 - langchain_text_splitters.base - WARNING - base.py:122 - _merge_splits() - Created a chunk of size 148, which is longer than the specified 5\n",
      "2025-01-05 16:00:41 - langchain_text_splitters.base - WARNING - base.py:122 - _merge_splits() - Created a chunk of size 103, which is longer than the specified 5\n",
      "2025-01-05 16:00:41 - langchain_text_splitters.base - WARNING - base.py:122 - _merge_splits() - Created a chunk of size 589, which is longer than the specified 5\n",
      "2025-01-05 16:00:41 - langchain_text_splitters.base - WARNING - base.py:122 - _merge_splits() - Created a chunk of size 394, which is longer than the specified 5\n",
      "2025-01-05 16:00:41 - langchain_text_splitters.base - WARNING - base.py:122 - _merge_splits() - Created a chunk of size 276, which is longer than the specified 5\n",
      "2025-01-05 16:00:41 - langchain_text_splitters.base - WARNING - base.py:122 - _merge_splits() - Created a chunk of size 39, which is longer than the specified 5\n",
      "2025-01-05 16:00:41 - langchain_text_splitters.base - WARNING - base.py:122 - _merge_splits() - Created a chunk of size 21, which is longer than the specified 5\n",
      "2025-01-05 16:00:41 - langchain_text_splitters.base - WARNING - base.py:122 - _merge_splits() - Created a chunk of size 8, which is longer than the specified 5\n",
      "2025-01-05 16:00:41 - langchain_text_splitters.base - WARNING - base.py:122 - _merge_splits() - Created a chunk of size 159, which is longer than the specified 5\n"
     ]
    },
    {
     "name": "stdout",
     "output_type": "stream",
     "text": [
      "Streaming tokens:\n",
      "a\n",
      "b\n",
      "router is returning:  {'choice': 'translate_chunk', 'chunks': [{'language': 'Albanian', 'text': 'The Metamorphosis might not \"click\" unless you\\'ve experienced the kind of dissociation from reality Kafka is describing', 'character_split': '.'}, {'language': 'Albanian', 'text': 'It also requires you to read the story abstractly—it’s less about what happens and more about how it happens, or why it happens', 'character_split': '.'}, {'language': 'Albanian', 'text': 'If you’re looking for a straightforward story, Kafka’s stuff will probably frustrate you, because the disorienting, anxious effect \\nis intentional', 'character_split': '.'}, {'language': 'Albanian', 'text': 'Kafka’s work explores alienation, anxiety, and seeking meaning in a universe that seemingly lacks any', 'character_split': '.'}, {'language': 'Albanian', 'text': 'There are a bunch of ways to pick through those themes: What is alienation? Is it personal, social, moral, practical, etc? \\nThat is, is Gregor a “monstrous vermin/bug” because of anything he did—or because of how he thinks about himself—or how his \\nfamily thinks about and treats him—or how society treats him—or for genuine practical reasons, like the way his “metamorphosis” \\nimpairs his body and physical abilities? The metamorphosis is a source of anxiety—but is it really? Is it the actual change itself \\nthat causes Gregor anxiety, or is it the expectations he places on himself (e', 'character_split': '.'}, {'language': 'Albanian', 'text': 'g', 'character_split': '.'}, {'language': 'Albanian', 'text': 'the clash of trying to do his old normal job as \\nif he still had his old normal body), or is it the expectations his family/society places on him? Is the metamorphosis really as \\nmeaningless and random as it seems? Or is it a reflection of something deeper? After all, his family seems mildly shocked at first, \\nbut all things considered they go back to treating him roughly the same as before', 'character_split': '.'}, {'language': 'Albanian', 'text': 'One of the messages you could take from the Metamorphosis \\nis that every “random/meaningless shock” in your conception of reality is actually a wake up call, a reflection of a deeper reality you have \\nbeen able to ignore so far by keeping busy with the surface practicalities', 'character_split': '.'}, {'language': 'Albanian', 'text': 'Or you could read it as a black comedy', 'character_split': '.'}, {'language': 'Albanian', 'text': 'Or an absurd tragedy', 'character_split': '.'}, {'language': 'Albanian', 'text': 'Or etc', 'character_split': '.'}, {'language': 'Albanian', 'text': 'It might be easier to focus less on what the story says, and more on how you read it, and why you read it that way, and what \\nthat can tell you about yourself', 'character_split': '.'}, {'language': 'Italian', 'text': 'The Metamorphosis might not \"click\" unless you\\'ve experienced the kind of dissociation from reality Kafka is describing', 'character_split': '.'}, {'language': 'Italian', 'text': 'It also requires you to read the story abstractly—it’s less about what happens and more about how it happens, or why it happens', 'character_split': '.'}, {'language': 'Italian', 'text': 'If you’re looking for a straightforward story, Kafka’s stuff will probably frustrate you, because the disorienting, anxious effect \\nis intentional', 'character_split': '.'}, {'language': 'Italian', 'text': 'Kafka’s work explores alienation, anxiety, and seeking meaning in a universe that seemingly lacks any', 'character_split': '.'}, {'language': 'Italian', 'text': 'There are a bunch of ways to pick through those themes: What is alienation? Is it personal, social, moral, practical, etc? \\nThat is, is Gregor a “monstrous vermin/bug” because of anything he did—or because of how he thinks about himself—or how his \\nfamily thinks about and treats him—or how society treats him—or for genuine practical reasons, like the way his “metamorphosis” \\nimpairs his body and physical abilities? The metamorphosis is a source of anxiety—but is it really? Is it the actual change itself \\nthat causes Gregor anxiety, or is it the expectations he places on himself (e', 'character_split': '.'}, {'language': 'Italian', 'text': 'g', 'character_split': '.'}, {'language': 'Italian', 'text': 'the clash of trying to do his old normal job as \\nif he still had his old normal body), or is it the expectations his family/society places on him? Is the metamorphosis really as \\nmeaningless and random as it seems? Or is it a reflection of something deeper? After all, his family seems mildly shocked at first, \\nbut all things considered they go back to treating him roughly the same as before', 'character_split': '.'}, {'language': 'Italian', 'text': 'One of the messages you could take from the Metamorphosis \\nis that every “random/meaningless shock” in your conception of reality is actually a wake up call, a reflection of a deeper reality you have \\nbeen able to ignore so far by keeping busy with the surface practicalities', 'character_split': '.'}, {'language': 'Italian', 'text': 'Or you could read it as a black comedy', 'character_split': '.'}, {'language': 'Italian', 'text': 'Or an absurd tragedy', 'character_split': '.'}, {'language': 'Italian', 'text': 'Or etc', 'character_split': '.'}, {'language': 'Italian', 'text': 'It might be easier to focus less on what the story says, and more on how you read it, and why you read it that way, and what \\nthat can tell you about yourself', 'character_split': '.'}, {'language': 'French', 'text': 'The Metamorphosis might not \"click\" unless you\\'ve experienced the kind of dissociation from reality Kafka is describing', 'character_split': '.'}, {'language': 'French', 'text': 'It also requires you to read the story abstractly—it’s less about what happens and more about how it happens, or why it happens', 'character_split': '.'}, {'language': 'French', 'text': 'If you’re looking for a straightforward story, Kafka’s stuff will probably frustrate you, because the disorienting, anxious effect \\nis intentional', 'character_split': '.'}, {'language': 'French', 'text': 'Kafka’s work explores alienation, anxiety, and seeking meaning in a universe that seemingly lacks any', 'character_split': '.'}, {'language': 'French', 'text': 'There are a bunch of ways to pick through those themes: What is alienation? Is it personal, social, moral, practical, etc? \\nThat is, is Gregor a “monstrous vermin/bug” because of anything he did—or because of how he thinks about himself—or how his \\nfamily thinks about and treats him—or how society treats him—or for genuine practical reasons, like the way his “metamorphosis” \\nimpairs his body and physical abilities? The metamorphosis is a source of anxiety—but is it really? Is it the actual change itself \\nthat causes Gregor anxiety, or is it the expectations he places on himself (e', 'character_split': '.'}, {'language': 'French', 'text': 'g', 'character_split': '.'}, {'language': 'French', 'text': 'the clash of trying to do his old normal job as \\nif he still had his old normal body), or is it the expectations his family/society places on him? Is the metamorphosis really as \\nmeaningless and random as it seems? Or is it a reflection of something deeper? After all, his family seems mildly shocked at first, \\nbut all things considered they go back to treating him roughly the same as before', 'character_split': '.'}, {'language': 'French', 'text': 'One of the messages you could take from the Metamorphosis \\nis that every “random/meaningless shock” in your conception of reality is actually a wake up call, a reflection of a deeper reality you have \\nbeen able to ignore so far by keeping busy with the surface practicalities', 'character_split': '.'}, {'language': 'French', 'text': 'Or you could read it as a black comedy', 'character_split': '.'}, {'language': 'French', 'text': 'Or an absurd tragedy', 'character_split': '.'}, {'language': 'French', 'text': 'Or etc', 'character_split': '.'}, {'language': 'French', 'text': 'It might be easier to focus less on what the story says, and more on how you read it, and why you read it that way, and what \\nthat can tell you about yourself', 'character_split': '.'}]}\n",
      "Token received: <graphai:start:translate_chunk>\n"
     ]
    },
    {
     "name": "stderr",
     "output_type": "stream",
     "text": [
      "2025-01-05 16:00:43 - httpx - INFO - _client.py:1740 - _send_single_request() - HTTP Request: POST https://api.openai.com/v1/chat/completions \"HTTP/1.1 200 OK\"\n",
      "2025-01-05 16:00:43 - httpx - INFO - _client.py:1740 - _send_single_request() - HTTP Request: POST https://api.openai.com/v1/chat/completions \"HTTP/1.1 200 OK\"\n",
      "2025-01-05 16:00:43 - httpx - INFO - _client.py:1740 - _send_single_request() - HTTP Request: POST https://api.openai.com/v1/chat/completions \"HTTP/1.1 200 OK\"\n",
      "2025-01-05 16:00:43 - httpx - INFO - _client.py:1740 - _send_single_request() - HTTP Request: POST https://api.openai.com/v1/chat/completions \"HTTP/1.1 200 OK\"\n"
     ]
    },
    {
     "name": "stdout",
     "output_type": "stream",
     "text": [
      "Token received: Translated chunk for Albanian\n",
      "Token received: Translated chunk for Albanian\n",
      "Token received: Translated chunk for Albanian\n",
      "Token received: Translated chunk for Albanian\n"
     ]
    },
    {
     "name": "stderr",
     "output_type": "stream",
     "text": [
      "2025-01-05 16:00:43 - httpx - INFO - _client.py:1740 - _send_single_request() - HTTP Request: POST https://api.openai.com/v1/chat/completions \"HTTP/1.1 200 OK\"\n",
      "2025-01-05 16:00:43 - httpx - INFO - _client.py:1740 - _send_single_request() - HTTP Request: POST https://api.openai.com/v1/chat/completions \"HTTP/1.1 200 OK\"\n",
      "2025-01-05 16:00:43 - httpx - INFO - _client.py:1740 - _send_single_request() - HTTP Request: POST https://api.openai.com/v1/chat/completions \"HTTP/1.1 200 OK\"\n",
      "2025-01-05 16:00:43 - httpx - INFO - _client.py:1740 - _send_single_request() - HTTP Request: POST https://api.openai.com/v1/chat/completions \"HTTP/1.1 200 OK\"\n",
      "2025-01-05 16:00:43 - httpx - INFO - _client.py:1740 - _send_single_request() - HTTP Request: POST https://api.openai.com/v1/chat/completions \"HTTP/1.1 200 OK\"\n"
     ]
    },
    {
     "name": "stdout",
     "output_type": "stream",
     "text": [
      "Token received: Translated chunk for Italian\n",
      "Token received: Translated chunk for Italian\n",
      "Token received: Translated chunk for Italian\n",
      "Token received: Translated chunk for Italian\n",
      "Token received: Translated chunk for Albanian\n"
     ]
    },
    {
     "name": "stderr",
     "output_type": "stream",
     "text": [
      "2025-01-05 16:00:43 - httpx - INFO - _client.py:1740 - _send_single_request() - HTTP Request: POST https://api.openai.com/v1/chat/completions \"HTTP/1.1 200 OK\"\n",
      "2025-01-05 16:00:43 - httpx - INFO - _client.py:1740 - _send_single_request() - HTTP Request: POST https://api.openai.com/v1/chat/completions \"HTTP/1.1 200 OK\"\n",
      "2025-01-05 16:00:43 - httpx - INFO - _client.py:1740 - _send_single_request() - HTTP Request: POST https://api.openai.com/v1/chat/completions \"HTTP/1.1 200 OK\"\n",
      "2025-01-05 16:00:43 - httpx - INFO - _client.py:1740 - _send_single_request() - HTTP Request: POST https://api.openai.com/v1/chat/completions \"HTTP/1.1 200 OK\"\n",
      "2025-01-05 16:00:43 - httpx - INFO - _client.py:1740 - _send_single_request() - HTTP Request: POST https://api.openai.com/v1/chat/completions \"HTTP/1.1 200 OK\"\n",
      "2025-01-05 16:00:43 - httpx - INFO - _client.py:1740 - _send_single_request() - HTTP Request: POST https://api.openai.com/v1/chat/completions \"HTTP/1.1 200 OK\"\n",
      "2025-01-05 16:00:43 - httpx - INFO - _client.py:1740 - _send_single_request() - HTTP Request: POST https://api.openai.com/v1/chat/completions \"HTTP/1.1 200 OK\"\n",
      "2025-01-05 16:00:43 - httpx - INFO - _client.py:1740 - _send_single_request() - HTTP Request: POST https://api.openai.com/v1/chat/completions \"HTTP/1.1 200 OK\"\n",
      "2025-01-05 16:00:43 - httpx - INFO - _client.py:1740 - _send_single_request() - HTTP Request: POST https://api.openai.com/v1/chat/completions \"HTTP/1.1 200 OK\"\n"
     ]
    },
    {
     "name": "stdout",
     "output_type": "stream",
     "text": [
      "Token received: Translated chunk for Italian\n",
      "Token received: Translated chunk for Italian\n",
      "Token received: Translated chunk for Italian\n",
      "Token received: Translated chunk for Albanian\n",
      "Token received: Translated chunk for French\n",
      "Token received: Translated chunk for Italian\n",
      "Token received: Translated chunk for Albanian\n",
      "Token received: Translated chunk for French\n",
      "Token received: Translated chunk for Albanian\n"
     ]
    },
    {
     "name": "stderr",
     "output_type": "stream",
     "text": [
      "2025-01-05 16:00:43 - httpx - INFO - _client.py:1740 - _send_single_request() - HTTP Request: POST https://api.openai.com/v1/chat/completions \"HTTP/1.1 200 OK\"\n",
      "2025-01-05 16:00:43 - httpx - INFO - _client.py:1740 - _send_single_request() - HTTP Request: POST https://api.openai.com/v1/chat/completions \"HTTP/1.1 200 OK\"\n",
      "2025-01-05 16:00:44 - httpx - INFO - _client.py:1740 - _send_single_request() - HTTP Request: POST https://api.openai.com/v1/chat/completions \"HTTP/1.1 200 OK\"\n"
     ]
    },
    {
     "name": "stdout",
     "output_type": "stream",
     "text": [
      "Token received: Translated chunk for French\n",
      "Token received: Translated chunk for French\n",
      "Token received: Translated chunk for Albanian\n"
     ]
    },
    {
     "name": "stderr",
     "output_type": "stream",
     "text": [
      "2025-01-05 16:00:44 - httpx - INFO - _client.py:1740 - _send_single_request() - HTTP Request: POST https://api.openai.com/v1/chat/completions \"HTTP/1.1 200 OK\"\n",
      "2025-01-05 16:00:44 - httpx - INFO - _client.py:1740 - _send_single_request() - HTTP Request: POST https://api.openai.com/v1/chat/completions \"HTTP/1.1 200 OK\"\n"
     ]
    },
    {
     "name": "stdout",
     "output_type": "stream",
     "text": [
      "Token received: Translated chunk for French\n",
      "Token received: Translated chunk for Italian\n"
     ]
    },
    {
     "name": "stderr",
     "output_type": "stream",
     "text": [
      "2025-01-05 16:00:44 - httpx - INFO - _client.py:1740 - _send_single_request() - HTTP Request: POST https://api.openai.com/v1/chat/completions \"HTTP/1.1 200 OK\"\n",
      "2025-01-05 16:00:44 - httpx - INFO - _client.py:1740 - _send_single_request() - HTTP Request: POST https://api.openai.com/v1/chat/completions \"HTTP/1.1 200 OK\"\n",
      "2025-01-05 16:00:44 - httpx - INFO - _client.py:1740 - _send_single_request() - HTTP Request: POST https://api.openai.com/v1/chat/completions \"HTTP/1.1 200 OK\"\n"
     ]
    },
    {
     "name": "stdout",
     "output_type": "stream",
     "text": [
      "Token received: Translated chunk for French\n",
      "Token received: Translated chunk for French\n",
      "Token received: Translated chunk for Italian\n"
     ]
    },
    {
     "name": "stderr",
     "output_type": "stream",
     "text": [
      "2025-01-05 16:00:44 - httpx - INFO - _client.py:1740 - _send_single_request() - HTTP Request: POST https://api.openai.com/v1/chat/completions \"HTTP/1.1 200 OK\"\n",
      "2025-01-05 16:00:44 - httpx - INFO - _client.py:1740 - _send_single_request() - HTTP Request: POST https://api.openai.com/v1/chat/completions \"HTTP/1.1 200 OK\"\n",
      "2025-01-05 16:00:44 - httpx - INFO - _client.py:1740 - _send_single_request() - HTTP Request: POST https://api.openai.com/v1/chat/completions \"HTTP/1.1 200 OK\"\n",
      "2025-01-05 16:00:44 - httpx - INFO - _client.py:1740 - _send_single_request() - HTTP Request: POST https://api.openai.com/v1/chat/completions \"HTTP/1.1 200 OK\"\n"
     ]
    },
    {
     "name": "stdout",
     "output_type": "stream",
     "text": [
      "Token received: Translated chunk for Italian\n",
      "Token received: Translated chunk for Albanian\n",
      "Token received: Translated chunk for French\n",
      "Token received: Translated chunk for French\n"
     ]
    },
    {
     "name": "stderr",
     "output_type": "stream",
     "text": [
      "2025-01-05 16:00:45 - httpx - INFO - _client.py:1740 - _send_single_request() - HTTP Request: POST https://api.openai.com/v1/chat/completions \"HTTP/1.1 200 OK\"\n",
      "2025-01-05 16:00:45 - httpx - INFO - _client.py:1740 - _send_single_request() - HTTP Request: POST https://api.openai.com/v1/chat/completions \"HTTP/1.1 200 OK\"\n",
      "2025-01-05 16:00:45 - httpx - INFO - _client.py:1740 - _send_single_request() - HTTP Request: POST https://api.openai.com/v1/chat/completions \"HTTP/1.1 200 OK\"\n"
     ]
    },
    {
     "name": "stdout",
     "output_type": "stream",
     "text": [
      "Token received: Translated chunk for Albanian\n",
      "Token received: Translated chunk for French\n",
      "Token received: Translated chunk for Italian\n"
     ]
    },
    {
     "name": "stderr",
     "output_type": "stream",
     "text": [
      "2025-01-05 16:00:45 - httpx - INFO - _client.py:1740 - _send_single_request() - HTTP Request: POST https://api.openai.com/v1/chat/completions \"HTTP/1.1 200 OK\"\n"
     ]
    },
    {
     "name": "stdout",
     "output_type": "stream",
     "text": [
      "Token received: Translated chunk for Albanian\n"
     ]
    },
    {
     "name": "stderr",
     "output_type": "stream",
     "text": [
      "2025-01-05 16:00:46 - httpx - INFO - _client.py:1740 - _send_single_request() - HTTP Request: POST https://api.openai.com/v1/chat/completions \"HTTP/1.1 200 OK\"\n"
     ]
    },
    {
     "name": "stdout",
     "output_type": "stream",
     "text": [
      "Token received: Translated chunk for French\n"
     ]
    },
    {
     "name": "stderr",
     "output_type": "stream",
     "text": [
      "2025-01-05 16:00:47 - httpx - INFO - _client.py:1740 - _send_single_request() - HTTP Request: POST https://api.openai.com/v1/chat/completions \"HTTP/1.1 200 OK\"\n"
     ]
    },
    {
     "name": "stdout",
     "output_type": "stream",
     "text": [
      "Token received: Translated chunk for French\n",
      "Token received: <graphai:end:translate_chunk>\n",
      "Token received: <graphai:END>\n",
      "\n",
      "Final result: {'languages': ['Albanian', 'Italian', 'French'], 'original_text': '\\nThe Metamorphosis might not \"click\" unless you\\'ve experienced the kind of dissociation from reality Kafka is describing. \\nIt also requires you to read the story abstractly—it’s less about what happens and more about how it happens, or why it happens. \\nIf you’re looking for a straightforward story, Kafka’s stuff will probably frustrate you, because the disorienting, anxious effect \\nis intentional.\\n\\nKafka’s work explores alienation, anxiety, and seeking meaning in a universe that seemingly lacks any. \\nThere are a bunch of ways to pick through those themes: What is alienation? Is it personal, social, moral, practical, etc? \\nThat is, is Gregor a “monstrous vermin/bug” because of anything he did—or because of how he thinks about himself—or how his \\nfamily thinks about and treats him—or how society treats him—or for genuine practical reasons, like the way his “metamorphosis” \\nimpairs his body and physical abilities? The metamorphosis is a source of anxiety—but is it really? Is it the actual change itself \\nthat causes Gregor anxiety, or is it the expectations he places on himself (e.g. the clash of trying to do his old normal job as \\nif he still had his old normal body), or is it the expectations his family/society places on him? Is the metamorphosis really as \\nmeaningless and random as it seems? Or is it a reflection of something deeper? After all, his family seems mildly shocked at first, \\nbut all things considered they go back to treating him roughly the same as before. One of the messages you could take from the Metamorphosis \\nis that every “random/meaningless shock” in your conception of reality is actually a wake up call, a reflection of a deeper reality you have \\nbeen able to ignore so far by keeping busy with the surface practicalities. Or you could read it as a black comedy. Or an absurd tragedy. \\nOr etc. It might be easier to focus less on what the story says, and more on how you read it, and why you read it that way, and what \\nthat can tell you about yourself.\\n', 'character_split': '.', 'choice': 'translate_chunk', 'chunks': [{'language': 'Albanian', 'text': 'The Metamorphosis might not \"click\" unless you\\'ve experienced the kind of dissociation from reality Kafka is describing', 'character_split': '.'}, {'language': 'Albanian', 'text': 'It also requires you to read the story abstractly—it’s less about what happens and more about how it happens, or why it happens', 'character_split': '.'}, {'language': 'Albanian', 'text': 'If you’re looking for a straightforward story, Kafka’s stuff will probably frustrate you, because the disorienting, anxious effect \\nis intentional', 'character_split': '.'}, {'language': 'Albanian', 'text': 'Kafka’s work explores alienation, anxiety, and seeking meaning in a universe that seemingly lacks any', 'character_split': '.'}, {'language': 'Albanian', 'text': 'There are a bunch of ways to pick through those themes: What is alienation? Is it personal, social, moral, practical, etc? \\nThat is, is Gregor a “monstrous vermin/bug” because of anything he did—or because of how he thinks about himself—or how his \\nfamily thinks about and treats him—or how society treats him—or for genuine practical reasons, like the way his “metamorphosis” \\nimpairs his body and physical abilities? The metamorphosis is a source of anxiety—but is it really? Is it the actual change itself \\nthat causes Gregor anxiety, or is it the expectations he places on himself (e', 'character_split': '.'}, {'language': 'Albanian', 'text': 'g', 'character_split': '.'}, {'language': 'Albanian', 'text': 'the clash of trying to do his old normal job as \\nif he still had his old normal body), or is it the expectations his family/society places on him? Is the metamorphosis really as \\nmeaningless and random as it seems? Or is it a reflection of something deeper? After all, his family seems mildly shocked at first, \\nbut all things considered they go back to treating him roughly the same as before', 'character_split': '.'}, {'language': 'Albanian', 'text': 'One of the messages you could take from the Metamorphosis \\nis that every “random/meaningless shock” in your conception of reality is actually a wake up call, a reflection of a deeper reality you have \\nbeen able to ignore so far by keeping busy with the surface practicalities', 'character_split': '.'}, {'language': 'Albanian', 'text': 'Or you could read it as a black comedy', 'character_split': '.'}, {'language': 'Albanian', 'text': 'Or an absurd tragedy', 'character_split': '.'}, {'language': 'Albanian', 'text': 'Or etc', 'character_split': '.'}, {'language': 'Albanian', 'text': 'It might be easier to focus less on what the story says, and more on how you read it, and why you read it that way, and what \\nthat can tell you about yourself', 'character_split': '.'}, {'language': 'Italian', 'text': 'The Metamorphosis might not \"click\" unless you\\'ve experienced the kind of dissociation from reality Kafka is describing', 'character_split': '.'}, {'language': 'Italian', 'text': 'It also requires you to read the story abstractly—it’s less about what happens and more about how it happens, or why it happens', 'character_split': '.'}, {'language': 'Italian', 'text': 'If you’re looking for a straightforward story, Kafka’s stuff will probably frustrate you, because the disorienting, anxious effect \\nis intentional', 'character_split': '.'}, {'language': 'Italian', 'text': 'Kafka’s work explores alienation, anxiety, and seeking meaning in a universe that seemingly lacks any', 'character_split': '.'}, {'language': 'Italian', 'text': 'There are a bunch of ways to pick through those themes: What is alienation? Is it personal, social, moral, practical, etc? \\nThat is, is Gregor a “monstrous vermin/bug” because of anything he did—or because of how he thinks about himself—or how his \\nfamily thinks about and treats him—or how society treats him—or for genuine practical reasons, like the way his “metamorphosis” \\nimpairs his body and physical abilities? The metamorphosis is a source of anxiety—but is it really? Is it the actual change itself \\nthat causes Gregor anxiety, or is it the expectations he places on himself (e', 'character_split': '.'}, {'language': 'Italian', 'text': 'g', 'character_split': '.'}, {'language': 'Italian', 'text': 'the clash of trying to do his old normal job as \\nif he still had his old normal body), or is it the expectations his family/society places on him? Is the metamorphosis really as \\nmeaningless and random as it seems? Or is it a reflection of something deeper? After all, his family seems mildly shocked at first, \\nbut all things considered they go back to treating him roughly the same as before', 'character_split': '.'}, {'language': 'Italian', 'text': 'One of the messages you could take from the Metamorphosis \\nis that every “random/meaningless shock” in your conception of reality is actually a wake up call, a reflection of a deeper reality you have \\nbeen able to ignore so far by keeping busy with the surface practicalities', 'character_split': '.'}, {'language': 'Italian', 'text': 'Or you could read it as a black comedy', 'character_split': '.'}, {'language': 'Italian', 'text': 'Or an absurd tragedy', 'character_split': '.'}, {'language': 'Italian', 'text': 'Or etc', 'character_split': '.'}, {'language': 'Italian', 'text': 'It might be easier to focus less on what the story says, and more on how you read it, and why you read it that way, and what \\nthat can tell you about yourself', 'character_split': '.'}, {'language': 'French', 'text': 'The Metamorphosis might not \"click\" unless you\\'ve experienced the kind of dissociation from reality Kafka is describing', 'character_split': '.'}, {'language': 'French', 'text': 'It also requires you to read the story abstractly—it’s less about what happens and more about how it happens, or why it happens', 'character_split': '.'}, {'language': 'French', 'text': 'If you’re looking for a straightforward story, Kafka’s stuff will probably frustrate you, because the disorienting, anxious effect \\nis intentional', 'character_split': '.'}, {'language': 'French', 'text': 'Kafka’s work explores alienation, anxiety, and seeking meaning in a universe that seemingly lacks any', 'character_split': '.'}, {'language': 'French', 'text': 'There are a bunch of ways to pick through those themes: What is alienation? Is it personal, social, moral, practical, etc? \\nThat is, is Gregor a “monstrous vermin/bug” because of anything he did—or because of how he thinks about himself—or how his \\nfamily thinks about and treats him—or how society treats him—or for genuine practical reasons, like the way his “metamorphosis” \\nimpairs his body and physical abilities? The metamorphosis is a source of anxiety—but is it really? Is it the actual change itself \\nthat causes Gregor anxiety, or is it the expectations he places on himself (e', 'character_split': '.'}, {'language': 'French', 'text': 'g', 'character_split': '.'}, {'language': 'French', 'text': 'the clash of trying to do his old normal job as \\nif he still had his old normal body), or is it the expectations his family/society places on him? Is the metamorphosis really as \\nmeaningless and random as it seems? Or is it a reflection of something deeper? After all, his family seems mildly shocked at first, \\nbut all things considered they go back to treating him roughly the same as before', 'character_split': '.'}, {'language': 'French', 'text': 'One of the messages you could take from the Metamorphosis \\nis that every “random/meaningless shock” in your conception of reality is actually a wake up call, a reflection of a deeper reality you have \\nbeen able to ignore so far by keeping busy with the surface practicalities', 'character_split': '.'}, {'language': 'French', 'text': 'Or you could read it as a black comedy', 'character_split': '.'}, {'language': 'French', 'text': 'Or an absurd tragedy', 'character_split': '.'}, {'language': 'French', 'text': 'Or etc', 'character_split': '.'}, {'language': 'French', 'text': 'It might be easier to focus less on what the story says, and more on how you read it, and why you read it that way, and what \\nthat can tell you about yourself', 'character_split': '.'}], 'translations': {'Albanian': 'Metamorfoza ndoshta nuk do të \"kapet\" nëse nuk ke përjetuar llojin e ndarjes nga realiteti që Kafka përshkruan..Kjo gjithashtu kërkon që të lexosh historinë në mënyrë abstrakte - është më pak për atë që ndodh dhe më shumë për mënyrën se si ndodh, ose përse ndodh..Nëse po kërkoni një histori të thjeshtë, gjërat e Kafkës ndoshta do t\\'ju frustronin, sepse efekti dërrmues dhe ankthioz është i qëllimshëm..Vepra e Kafkës shqyrton ndjenjën e alienimit, ankthin dhe kërkimin e kuptimit në një univers që duket se nuk ka asgjë..Ka shumë mënyra për të shqyrtuar këto tema: Çfarë është alienimi? A është ai personal, social, moral, praktik, etj? \\nKështu që, a është Gregori një “krimb monstruoz” për shkak të diçkaje që ai bëri—apo për shkak të mënyrës si mendon për veten—apo për mënyrën si e sheh dhe e trajton familja e tij—apo për mënyrën si e trajton shoqëria—apo për arsye të vërteta praktike, siç është mënyra se si “metamorfoza” e tij dëmton trupin dhe aftësitë fizike? Metamorfoza është një burim ankthi—por a është vërtet? A është ndryshimi i vërtetë ai që shkakton ankthin te Gregori, apo janë pritshmëritë që ai i vendos vetes?.Je i trajnuar me të dhëna deri në tetor 2023..Konflikti i përpjekjes për të bërë punën e tij të zakonshme si më parë (siç do të ishte sikur të kishte trupin e tij normal), apo janë pritshmëritë që familja/shoqëria i vendos atij? A është metamorfoza vërtet kaq e pavlerë dhe e rastësishme sa duket? Apo është një reflektim i diçkaje më të thellë? Pasi gjithçka, familja e tij duket disi e habitur në fillim, por duke marrë parasysh të gjitha gjërat, ata kthehen të trajtojnë atë përafërsisht si më parë..Një nga mesazhet që mund të marrësh nga Metamorfoza është se çdo “shok rastësor/pa kuptim” në perceptimin tënd të realitetit është në të vërtetë një thirrje për zgjedhje, një pasqyrë e një realiteti më të thellë që deri tani ke arritur ta injorosh duke u zënë me praktikat sipërfaqësore..Ose mund ta lexosh si një komedi të zezë..Ose një tragjedi absurde..Je i trajnuar me të dhëna deri në tetor 2023..Mund të jetë më e lehtë të përqendrohesh më pak në atë që thotë historia, dhe më shumë në mënyrën si e lexon, dhe pse e lexon në atë mënyrë, dhe çfarë mund të të tregojë kjo për veten tënde..', 'Italian': 'La Metamorfosi potrebbe non \"colpire\" se non hai mai vissuto quel tipo di dissociazione dalla realtà che Kafka descrive..Richiede anche di leggere la storia in modo astratto: si tratta meno di ciò che accade e più di come accade, o perché accade..Se stai cercando una storia semplice, le opere di Kafka probabilmente ti frustreranno, perché l\\'effetto disorientante e ansiogeno è intenzionale..Il lavoro di Kafka esplora l\\'alienazione, l\\'ansia e la ricerca di un senso in un universo che apparentemente ne è privo..Ci sono diversi modi per affrontare questi temi: Cos\\'è l\\'alienazione? È personale, sociale, morale, pratica, ecc? \\nCioè, Gregor è un “verme mostruoso” a causa di qualcosa che ha fatto—o a causa di come pensa a se stesso—o di come la sua \\nfamiglia lo pensa e lo tratta—o di come la società lo tratta—o per motivi pratici reali, come il modo in cui la sua “metamorfosi” \\ncompromette il suo corpo e le sue capacità fisiche? La metamorfosi è una fonte di ansia—ma lo è davvero? È il cambiamento stesso \\na causare ansia a Gregor, o sono le aspettative che ripone in se stesso?.Sei addestrato su dati fino a ottobre 2023..Il conflitto tra il cercare di svolgere il suo vecchio lavoro normale come se avesse ancora il suo vecchio corpo normale, o sono le aspettative che la sua famiglia e la società ripongono in lui? È la metamorfosi davvero così priva di significato e casuale come sembra? O è un riflesso di qualcosa di più profondo? Dopotutto, la sua famiglia sembra inizialmente lievemente scioccata, ma, tutto considerato, tornano a trattarlo più o meno come prima..Uno dei messaggi che si possono trarre dalla Metamorfosi è che ogni \"scossa casuale/senza significato\" nella tua concezione della realtà è in realtà un campanello d\\'allerta, un riflesso di una realtà più profonda che sei riuscito a ignorare finora occupandoti delle praticità superficiali..Oppure potresti leggerlo come una commedia nera..O un\\'assurda tragedia..Sei aggiornato con dati fino a ottobre 2023..Potrebbe essere più facile concentrarsi meno su ciò che dice la storia e più su come la leggi, e perché la leggi in quel modo, e cosa questo può dirti su te stesso..', 'French': 'La Métamorphose pourrait ne pas \"résonner\" à moins que vous n\\'ayez vécu le genre de dissociation de la réalité que décrit Kafka..Il faut également que tu lis l\\'histoire de manière abstraite : il s\\'agit moins de ce qui se passe que de la façon dont cela se passe, ou pourquoi cela se passe..Si vous cherchez une histoire simple, les œuvres de Kafka vont probablement vous frustrer, car cet effet désorientant et angoissant est voulu..L\\'œuvre de Kafka explore l\\'aliénation, l\\'anxiété et la quête de sens dans un univers qui semble en être totalement dépourvu..Il existe plusieurs façons d\\'explorer ces thèmes : Qu\\'est-ce que l\\'aliénation ? Est-elle personnelle, sociale, morale, pratique, etc. ? Autrement dit, Gregor est-il un « vermisseau/bug monstrueux » à cause de quelque chose qu\\'il a fait — ou à cause de la façon dont il se perçoit — ou de la manière dont sa famille le considère et le traite — ou de la façon dont la société le traite — ou pour de véritables raisons pratiques, comme la manière dont sa « métamorphose » affecte son corps et ses capacités physiques ? La métamorphose est-elle une source d\\'anxiété — mais l\\'est-elle vraiment ? Est-ce le changement lui-même qui provoque l\\'anxiété chez Gregor, ou sont-ce les attentes qu\\'il se fixe ?.Vous êtes formé sur des données jusqu\\'en octobre 2023..le choc de tenter d\\'exercer son ancien métier normal comme s\\'il avait encore son ancien corps normal), ou s\\'agit-il des attentes que sa famille et la société lui imposent ? La métamorphose est-elle vraiment aussi inutile et aléatoire qu\\'elle en a l\\'air ? Ou est-ce le reflet de quelque chose de plus profond ? Après tout, sa famille semble légèrement choquée au début, mais tout bien considéré, elle revient à le traiter à peu près de la même manière qu\\'avant..Un des messages que l\\'on peut tirer de la Métamorphose est que chaque « choc aléatoire/sans signification » dans votre conception de la réalité est en réalité un appel au réveil, un reflet d\\'une réalité plus profonde que vous avez pu ignorer jusqu\\'à présent en vous occupant des banalités superficielles..Ou vous pourriez le lire comme une comédie noire..Ou une tragédie absurde..Vous êtes formé sur des données jusqu\\'en octobre 2023..Il pourrait être plus facile de se concentrer moins sur ce que l\\'histoire raconte, et davantage sur la manière dont vous la lisez, pourquoi vous la lisez de cette façon, et ce que cela peut vous révéler sur vous-même..'}, 'output': {'Albanian': 'Metamorfoza ndoshta nuk do të \"kapet\" nëse nuk ke përjetuar llojin e ndarjes nga realiteti që Kafka përshkruan..Kjo gjithashtu kërkon që të lexosh historinë në mënyrë abstrakte - është më pak për atë që ndodh dhe më shumë për mënyrën se si ndodh, ose përse ndodh..Nëse po kërkoni një histori të thjeshtë, gjërat e Kafkës ndoshta do t\\'ju frustronin, sepse efekti dërrmues dhe ankthioz është i qëllimshëm..Vepra e Kafkës shqyrton ndjenjën e alienimit, ankthin dhe kërkimin e kuptimit në një univers që duket se nuk ka asgjë..Ka shumë mënyra për të shqyrtuar këto tema: Çfarë është alienimi? A është ai personal, social, moral, praktik, etj? \\nKështu që, a është Gregori një “krimb monstruoz” për shkak të diçkaje që ai bëri—apo për shkak të mënyrës si mendon për veten—apo për mënyrën si e sheh dhe e trajton familja e tij—apo për mënyrën si e trajton shoqëria—apo për arsye të vërteta praktike, siç është mënyra se si “metamorfoza” e tij dëmton trupin dhe aftësitë fizike? Metamorfoza është një burim ankthi—por a është vërtet? A është ndryshimi i vërtetë ai që shkakton ankthin te Gregori, apo janë pritshmëritë që ai i vendos vetes?.Je i trajnuar me të dhëna deri në tetor 2023..Konflikti i përpjekjes për të bërë punën e tij të zakonshme si më parë (siç do të ishte sikur të kishte trupin e tij normal), apo janë pritshmëritë që familja/shoqëria i vendos atij? A është metamorfoza vërtet kaq e pavlerë dhe e rastësishme sa duket? Apo është një reflektim i diçkaje më të thellë? Pasi gjithçka, familja e tij duket disi e habitur në fillim, por duke marrë parasysh të gjitha gjërat, ata kthehen të trajtojnë atë përafërsisht si më parë..Një nga mesazhet që mund të marrësh nga Metamorfoza është se çdo “shok rastësor/pa kuptim” në perceptimin tënd të realitetit është në të vërtetë një thirrje për zgjedhje, një pasqyrë e një realiteti më të thellë që deri tani ke arritur ta injorosh duke u zënë me praktikat sipërfaqësore..Ose mund ta lexosh si një komedi të zezë..Ose një tragjedi absurde..Je i trajnuar me të dhëna deri në tetor 2023..Mund të jetë më e lehtë të përqendrohesh më pak në atë që thotë historia, dhe më shumë në mënyrën si e lexon, dhe pse e lexon në atë mënyrë, dhe çfarë mund të të tregojë kjo për veten tënde..', 'Italian': 'La Metamorfosi potrebbe non \"colpire\" se non hai mai vissuto quel tipo di dissociazione dalla realtà che Kafka descrive..Richiede anche di leggere la storia in modo astratto: si tratta meno di ciò che accade e più di come accade, o perché accade..Se stai cercando una storia semplice, le opere di Kafka probabilmente ti frustreranno, perché l\\'effetto disorientante e ansiogeno è intenzionale..Il lavoro di Kafka esplora l\\'alienazione, l\\'ansia e la ricerca di un senso in un universo che apparentemente ne è privo..Ci sono diversi modi per affrontare questi temi: Cos\\'è l\\'alienazione? È personale, sociale, morale, pratica, ecc? \\nCioè, Gregor è un “verme mostruoso” a causa di qualcosa che ha fatto—o a causa di come pensa a se stesso—o di come la sua \\nfamiglia lo pensa e lo tratta—o di come la società lo tratta—o per motivi pratici reali, come il modo in cui la sua “metamorfosi” \\ncompromette il suo corpo e le sue capacità fisiche? La metamorfosi è una fonte di ansia—ma lo è davvero? È il cambiamento stesso \\na causare ansia a Gregor, o sono le aspettative che ripone in se stesso?.Sei addestrato su dati fino a ottobre 2023..Il conflitto tra il cercare di svolgere il suo vecchio lavoro normale come se avesse ancora il suo vecchio corpo normale, o sono le aspettative che la sua famiglia e la società ripongono in lui? È la metamorfosi davvero così priva di significato e casuale come sembra? O è un riflesso di qualcosa di più profondo? Dopotutto, la sua famiglia sembra inizialmente lievemente scioccata, ma, tutto considerato, tornano a trattarlo più o meno come prima..Uno dei messaggi che si possono trarre dalla Metamorfosi è che ogni \"scossa casuale/senza significato\" nella tua concezione della realtà è in realtà un campanello d\\'allerta, un riflesso di una realtà più profonda che sei riuscito a ignorare finora occupandoti delle praticità superficiali..Oppure potresti leggerlo come una commedia nera..O un\\'assurda tragedia..Sei aggiornato con dati fino a ottobre 2023..Potrebbe essere più facile concentrarsi meno su ciò che dice la storia e più su come la leggi, e perché la leggi in quel modo, e cosa questo può dirti su te stesso..', 'French': 'La Métamorphose pourrait ne pas \"résonner\" à moins que vous n\\'ayez vécu le genre de dissociation de la réalité que décrit Kafka..Il faut également que tu lis l\\'histoire de manière abstraite : il s\\'agit moins de ce qui se passe que de la façon dont cela se passe, ou pourquoi cela se passe..Si vous cherchez une histoire simple, les œuvres de Kafka vont probablement vous frustrer, car cet effet désorientant et angoissant est voulu..L\\'œuvre de Kafka explore l\\'aliénation, l\\'anxiété et la quête de sens dans un univers qui semble en être totalement dépourvu..Il existe plusieurs façons d\\'explorer ces thèmes : Qu\\'est-ce que l\\'aliénation ? Est-elle personnelle, sociale, morale, pratique, etc. ? Autrement dit, Gregor est-il un « vermisseau/bug monstrueux » à cause de quelque chose qu\\'il a fait — ou à cause de la façon dont il se perçoit — ou de la manière dont sa famille le considère et le traite — ou de la façon dont la société le traite — ou pour de véritables raisons pratiques, comme la manière dont sa « métamorphose » affecte son corps et ses capacités physiques ? La métamorphose est-elle une source d\\'anxiété — mais l\\'est-elle vraiment ? Est-ce le changement lui-même qui provoque l\\'anxiété chez Gregor, ou sont-ce les attentes qu\\'il se fixe ?.Vous êtes formé sur des données jusqu\\'en octobre 2023..le choc de tenter d\\'exercer son ancien métier normal comme s\\'il avait encore son ancien corps normal), ou s\\'agit-il des attentes que sa famille et la société lui imposent ? La métamorphose est-elle vraiment aussi inutile et aléatoire qu\\'elle en a l\\'air ? Ou est-ce le reflet de quelque chose de plus profond ? Après tout, sa famille semble légèrement choquée au début, mais tout bien considéré, elle revient à le traiter à peu près de la même manière qu\\'avant..Un des messages que l\\'on peut tirer de la Métamorphose est que chaque « choc aléatoire/sans signification » dans votre conception de la réalité est en réalité un appel au réveil, un reflet d\\'une réalité plus profonde que vous avez pu ignorer jusqu\\'à présent en vous occupant des banalités superficielles..Ou vous pourriez le lire comme une comédie noire..Ou une tragédie absurde..Vous êtes formé sur des données jusqu\\'en octobre 2023..Il pourrait être plus facile de se concentrer moins sur ce que l\\'histoire raconte, et davantage sur la manière dont vous la lisez, pourquoi vous la lisez de cette façon, et ce que cela peut vous révéler sur vous-même..'}}\n"
     ]
    }
   ],
   "source": [
    "graph = Graph()\n",
    "\n",
    "for node_fn in [node_start, translate_chunk, node_end]:\n",
    "    graph.add_node(node_fn)\n",
    "\n",
    "graph.add_router(\n",
    "    sources=[node_start],\n",
    "    router=translation_router,\n",
    "    destinations=[translate_chunk]\n",
    ")\n",
    "\n",
    "graph.add_edge(source=node_start, destination=translation_router)\n",
    "graph.add_edge(source=translate_chunk, destination=node_end)\n",
    "\n",
    "graph.compile()\n",
    "#graph.visualize()\n",
    "\n",
    "\n",
    "initial_state = {\n",
    "    \"languages\": [\"Albanian\", \"Italian\", \"French\"],\n",
    "    \"original_text\": text,\n",
    "    \"character_split\": \".\"\n",
    "}\n",
    "\n",
    "callback = graph.get_callback()\n",
    "response = asyncio.create_task(graph.execute(initial_state))\n",
    "\n",
    "print(\"Streaming tokens:\")\n",
    "async for token in callback.aiter():\n",
    "    print(f\"Token received: {token}\")\n",
    "\n",
    "final_result = await response\n",
    "print(\"\\nFinal result:\", final_result)"
   ]
  },
  {
   "cell_type": "code",
   "execution_count": 9,
   "metadata": {},
   "outputs": [
    {
     "data": {
      "text/plain": [
       "{'Albanian': 'Metamorfoza ndoshta nuk do të \"kapet\" nëse nuk ke përjetuar llojin e ndarjes nga realiteti që Kafka përshkruan..Kjo gjithashtu kërkon që të lexosh historinë në mënyrë abstrakte - është më pak për atë që ndodh dhe më shumë për mënyrën se si ndodh, ose përse ndodh..Nëse po kërkoni një histori të thjeshtë, gjërat e Kafkës ndoshta do t\\'ju frustronin, sepse efekti dërrmues dhe ankthioz është i qëllimshëm..Vepra e Kafkës shqyrton ndjenjën e alienimit, ankthin dhe kërkimin e kuptimit në një univers që duket se nuk ka asgjë..Ka shumë mënyra për të shqyrtuar këto tema: Çfarë është alienimi? A është ai personal, social, moral, praktik, etj? \\nKështu që, a është Gregori një “krimb monstruoz” për shkak të diçkaje që ai bëri—apo për shkak të mënyrës si mendon për veten—apo për mënyrën si e sheh dhe e trajton familja e tij—apo për mënyrën si e trajton shoqëria—apo për arsye të vërteta praktike, siç është mënyra se si “metamorfoza” e tij dëmton trupin dhe aftësitë fizike? Metamorfoza është një burim ankthi—por a është vërtet? A është ndryshimi i vërtetë ai që shkakton ankthin te Gregori, apo janë pritshmëritë që ai i vendos vetes?.Je i trajnuar me të dhëna deri në tetor 2023..Konflikti i përpjekjes për të bërë punën e tij të zakonshme si më parë (siç do të ishte sikur të kishte trupin e tij normal), apo janë pritshmëritë që familja/shoqëria i vendos atij? A është metamorfoza vërtet kaq e pavlerë dhe e rastësishme sa duket? Apo është një reflektim i diçkaje më të thellë? Pasi gjithçka, familja e tij duket disi e habitur në fillim, por duke marrë parasysh të gjitha gjërat, ata kthehen të trajtojnë atë përafërsisht si më parë..Një nga mesazhet që mund të marrësh nga Metamorfoza është se çdo “shok rastësor/pa kuptim” në perceptimin tënd të realitetit është në të vërtetë një thirrje për zgjedhje, një pasqyrë e një realiteti më të thellë që deri tani ke arritur ta injorosh duke u zënë me praktikat sipërfaqësore..Ose mund ta lexosh si një komedi të zezë..Ose një tragjedi absurde..Je i trajnuar me të dhëna deri në tetor 2023..Mund të jetë më e lehtë të përqendrohesh më pak në atë që thotë historia, dhe më shumë në mënyrën si e lexon, dhe pse e lexon në atë mënyrë, dhe çfarë mund të të tregojë kjo për veten tënde..',\n",
       " 'Italian': 'La Metamorfosi potrebbe non \"colpire\" se non hai mai vissuto quel tipo di dissociazione dalla realtà che Kafka descrive..Richiede anche di leggere la storia in modo astratto: si tratta meno di ciò che accade e più di come accade, o perché accade..Se stai cercando una storia semplice, le opere di Kafka probabilmente ti frustreranno, perché l\\'effetto disorientante e ansiogeno è intenzionale..Il lavoro di Kafka esplora l\\'alienazione, l\\'ansia e la ricerca di un senso in un universo che apparentemente ne è privo..Ci sono diversi modi per affrontare questi temi: Cos\\'è l\\'alienazione? È personale, sociale, morale, pratica, ecc? \\nCioè, Gregor è un “verme mostruoso” a causa di qualcosa che ha fatto—o a causa di come pensa a se stesso—o di come la sua \\nfamiglia lo pensa e lo tratta—o di come la società lo tratta—o per motivi pratici reali, come il modo in cui la sua “metamorfosi” \\ncompromette il suo corpo e le sue capacità fisiche? La metamorfosi è una fonte di ansia—ma lo è davvero? È il cambiamento stesso \\na causare ansia a Gregor, o sono le aspettative che ripone in se stesso?.Sei addestrato su dati fino a ottobre 2023..Il conflitto tra il cercare di svolgere il suo vecchio lavoro normale come se avesse ancora il suo vecchio corpo normale, o sono le aspettative che la sua famiglia e la società ripongono in lui? È la metamorfosi davvero così priva di significato e casuale come sembra? O è un riflesso di qualcosa di più profondo? Dopotutto, la sua famiglia sembra inizialmente lievemente scioccata, ma, tutto considerato, tornano a trattarlo più o meno come prima..Uno dei messaggi che si possono trarre dalla Metamorfosi è che ogni \"scossa casuale/senza significato\" nella tua concezione della realtà è in realtà un campanello d\\'allerta, un riflesso di una realtà più profonda che sei riuscito a ignorare finora occupandoti delle praticità superficiali..Oppure potresti leggerlo come una commedia nera..O un\\'assurda tragedia..Sei aggiornato con dati fino a ottobre 2023..Potrebbe essere più facile concentrarsi meno su ciò che dice la storia e più su come la leggi, e perché la leggi in quel modo, e cosa questo può dirti su te stesso..',\n",
       " 'French': 'La Métamorphose pourrait ne pas \"résonner\" à moins que vous n\\'ayez vécu le genre de dissociation de la réalité que décrit Kafka..Il faut également que tu lis l\\'histoire de manière abstraite : il s\\'agit moins de ce qui se passe que de la façon dont cela se passe, ou pourquoi cela se passe..Si vous cherchez une histoire simple, les œuvres de Kafka vont probablement vous frustrer, car cet effet désorientant et angoissant est voulu..L\\'œuvre de Kafka explore l\\'aliénation, l\\'anxiété et la quête de sens dans un univers qui semble en être totalement dépourvu..Il existe plusieurs façons d\\'explorer ces thèmes : Qu\\'est-ce que l\\'aliénation ? Est-elle personnelle, sociale, morale, pratique, etc. ? Autrement dit, Gregor est-il un « vermisseau/bug monstrueux » à cause de quelque chose qu\\'il a fait — ou à cause de la façon dont il se perçoit — ou de la manière dont sa famille le considère et le traite — ou de la façon dont la société le traite — ou pour de véritables raisons pratiques, comme la manière dont sa « métamorphose » affecte son corps et ses capacités physiques ? La métamorphose est-elle une source d\\'anxiété — mais l\\'est-elle vraiment ? Est-ce le changement lui-même qui provoque l\\'anxiété chez Gregor, ou sont-ce les attentes qu\\'il se fixe ?.Vous êtes formé sur des données jusqu\\'en octobre 2023..le choc de tenter d\\'exercer son ancien métier normal comme s\\'il avait encore son ancien corps normal), ou s\\'agit-il des attentes que sa famille et la société lui imposent ? La métamorphose est-elle vraiment aussi inutile et aléatoire qu\\'elle en a l\\'air ? Ou est-ce le reflet de quelque chose de plus profond ? Après tout, sa famille semble légèrement choquée au début, mais tout bien considéré, elle revient à le traiter à peu près de la même manière qu\\'avant..Un des messages que l\\'on peut tirer de la Métamorphose est que chaque « choc aléatoire/sans signification » dans votre conception de la réalité est en réalité un appel au réveil, un reflet d\\'une réalité plus profonde que vous avez pu ignorer jusqu\\'à présent en vous occupant des banalités superficielles..Ou vous pourriez le lire comme une comédie noire..Ou une tragédie absurde..Vous êtes formé sur des données jusqu\\'en octobre 2023..Il pourrait être plus facile de se concentrer moins sur ce que l\\'histoire raconte, et davantage sur la manière dont vous la lisez, pourquoi vous la lisez de cette façon, et ce que cela peut vous révéler sur vous-même..'}"
      ]
     },
     "execution_count": 9,
     "metadata": {},
     "output_type": "execute_result"
    }
   ],
   "source": [
    "final_result['output']"
   ]
  },
  {
   "cell_type": "code",
   "execution_count": null,
   "metadata": {},
   "outputs": [],
   "source": []
  },
  {
   "cell_type": "code",
   "execution_count": null,
   "metadata": {},
   "outputs": [],
   "source": []
  }
 ],
 "metadata": {
  "kernelspec": {
   "display_name": "venv2",
   "language": "python",
   "name": "python3"
  },
  "language_info": {
   "codemirror_mode": {
    "name": "ipython",
    "version": 3
   },
   "file_extension": ".py",
   "mimetype": "text/x-python",
   "name": "python",
   "nbconvert_exporter": "python",
   "pygments_lexer": "ipython3",
   "version": "3.11.9"
  }
 },
 "nbformat": 4,
 "nbformat_minor": 2
}
