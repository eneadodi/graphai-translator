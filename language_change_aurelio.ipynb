{
 "cells": [
  {
   "cell_type": "code",
   "execution_count": 1,
   "metadata": {},
   "outputs": [],
   "source": [
    "import os\n",
    "from getpass import getpass\n",
    "\n",
    "os.environ[\"OPENAI_API_KEY\"] = os.getenv(\"OPENAI_API_KEY\") or getpass(\n",
    "    \"Enter OpenAI API Key: \"\n",
    ")"
   ]
  },
  {
   "cell_type": "code",
   "execution_count": 2,
   "metadata": {},
   "outputs": [
    {
     "name": "stderr",
     "output_type": "stream",
     "text": [
      "/home/bababako/side_projects/llm_projects/venv2/lib/python3.11/site-packages/tqdm/auto.py:21: TqdmWarning: IProgress not found. Please update jupyter and ipywidgets. See https://ipywidgets.readthedocs.io/en/stable/user_install.html\n",
      "  from .autonotebook import tqdm as notebook_tqdm\n"
     ]
    }
   ],
   "source": [
    "from graphai import node, router, Graph\n",
    "from langchain_openai import ChatOpenAI\n",
    "from langchain.prompts import ChatPromptTemplate\n",
    "from langchain_core.output_parsers.string import StrOutputParser\n",
    "from langchain_text_splitters import CharacterTextSplitter\n",
    "from pydantic import BaseModel, Field\n",
    "import asyncio"
   ]
  },
  {
   "cell_type": "code",
   "execution_count": 3,
   "metadata": {},
   "outputs": [],
   "source": [
    "from prompts.prompts import language_translation_system_prompt\n"
   ]
  },
  {
   "cell_type": "code",
   "execution_count": 4,
   "metadata": {},
   "outputs": [],
   "source": [
    "class State(BaseModel):\n",
    "    languages: list[str] = Field(default_factory=list)\n",
    "    original_text: str = \"\"\n",
    "    translations: dict = Field(default_factory=dict)\n",
    "    character_split: str = \"\\n\"\n",
    "    chunk_size: int = 2000\n"
   ]
  },
  {
   "cell_type": "code",
   "execution_count": 5,
   "metadata": {},
   "outputs": [],
   "source": [
    "llm_fast = ChatOpenAI(model=\"gpt-4o-mini\")\n",
    "\n",
    "language_translation_prompt = ChatPromptTemplate([\n",
    "    ('system', language_translation_system_prompt),\n",
    "    ('human', '{input}')\n",
    "])\n",
    "chain = language_translation_prompt | llm_fast | StrOutputParser()\n"
   ]
  },
  {
   "cell_type": "code",
   "execution_count": 6,
   "metadata": {},
   "outputs": [],
   "source": [
    "@node(start=True)\n",
    "async def node_start(languages: list, original_text: str, character_split: str = \"\\n\"):\n",
    "    \"\"\"Start node that initializes processing\"\"\"\n",
    "    print('a')\n",
    "    return {\n",
    "        \"languages\": languages,\n",
    "        \"original_text\": original_text,\n",
    "        \"character_split\": character_split\n",
    "    }\n",
    "\n",
    "\n",
    "@router\n",
    "async def translation_router(languages: list, original_text: str, character_split: str):\n",
    "    \"\"\"Router that prepares chunks for translation\"\"\"\n",
    "    print('b')\n",
    "    text_splitter = CharacterTextSplitter(\n",
    "            separator=character_split,\n",
    "            chunk_size=5,\n",
    "            chunk_overlap=0,\n",
    "            length_function=len,\n",
    "            is_separator_regex=False\n",
    "        )\n",
    "   \n",
    "    documents = text_splitter.create_documents([original_text])\n",
    "    # Return choice and state with index\n",
    "    route = {\n",
    "        \"choice\": \"translate_chunk\",\n",
    "        \"chunks\": [\n",
    "            {\n",
    "                \"language\": lang,\n",
    "                \"text\": page.page_content,\n",
    "                \"character_split\": character_split,\n",
    "                \"index\": i  # Add index\n",
    "            }\n",
    "            for lang in languages\n",
    "            for i, page in enumerate(documents)  # Enumerate for index\n",
    "        ]\n",
    "    }\n",
    "    print(\"router is returning: \", route)\n",
    "    return route\n",
    "\n",
    "\n",
    "\n",
    "@node(stream=True)\n",
    "async def translate_chunk(chunks: list, callback = None):\n",
    "    \"\"\"Translate chunks in parallel\"\"\"\n",
    "    async def process_chunk(chunk):\n",
    "        output = await chain.ainvoke({\n",
    "            \"language\": chunk[\"language\"],\n",
    "            \"input\": chunk[\"text\"]\n",
    "        })\n",
    "        if callback:\n",
    "            await callback.acall(f\"Translated chunk for {chunk['language']}\")\n",
    "        # Return index with the result\n",
    "        return (chunk[\"language\"], output + chunk[\"character_split\"], chunk[\"index\"])\n",
    "    \n",
    "    results = await asyncio.gather(*[process_chunk(chunk) for chunk in chunks])\n",
    "   \n",
    "\n",
    "    translations_by_language = {}\n",
    "    for language, translation, index in results:\n",
    "        if language not in translations_by_language:\n",
    "            translations_by_language[language] = []\n",
    "        translations_by_language[language].append((index, translation))\n",
    "    \n",
    "    # Sort and combine for each language\n",
    "    translations = {}\n",
    "    for language, chunks in translations_by_language.items():\n",
    "        sorted_chunks = sorted(chunks, key=lambda x: x[0])\n",
    "        translations[language] = \"\".join(chunk[1] for chunk in sorted_chunks)\n",
    "        \n",
    "    return {\"translations\": translations}\n",
    "\n",
    "\n",
    "@node(end=True)\n",
    "async def node_end(translations: dict):\n",
    "    \"\"\"Final node that returns translations\"\"\"\n",
    "    return {\"output\": translations}\n"
   ]
  },
  {
   "cell_type": "code",
   "execution_count": 7,
   "metadata": {},
   "outputs": [],
   "source": [
    "text = \"\"\"\n",
    "The Metamorphosis might not \"click\" unless you've experienced the kind of dissociation from reality Kafka is describing. \n",
    "It also requires you to read the story abstractly—it’s less about what happens and more about how it happens, or why it happens. \n",
    "If you’re looking for a straightforward story, Kafka’s stuff will probably frustrate you, because the disorienting, anxious effect \n",
    "is intentional.\n",
    "\n",
    "Kafka’s work explores alienation, anxiety, and seeking meaning in a universe that seemingly lacks any. \n",
    "There are a bunch of ways to pick through those themes: What is alienation? Is it personal, social, moral, practical, etc? \n",
    "That is, is Gregor a “monstrous vermin/bug” because of anything he did—or because of how he thinks about himself—or how his \n",
    "family thinks about and treats him—or how society treats him—or for genuine practical reasons, like the way his “metamorphosis” \n",
    "impairs his body and physical abilities? The metamorphosis is a source of anxiety—but is it really? Is it the actual change itself \n",
    "that causes Gregor anxiety, or is it the expectations he places on himself (e.g. the clash of trying to do his old normal job as \n",
    "if he still had his old normal body), or is it the expectations his family/society places on him? Is the metamorphosis really as \n",
    "meaningless and random as it seems? Or is it a reflection of something deeper? After all, his family seems mildly shocked at first, \n",
    "but all things considered they go back to treating him roughly the same as before. One of the messages you could take from the Metamorphosis \n",
    "is that every “random/meaningless shock” in your conception of reality is actually a wake up call, a reflection of a deeper reality you have \n",
    "been able to ignore so far by keeping busy with the surface practicalities. Or you could read it as a black comedy. Or an absurd tragedy. \n",
    "Or etc. It might be easier to focus less on what the story says, and more on how you read it, and why you read it that way, and what \n",
    "that can tell you about yourself.\n",
    "\"\"\""
   ]
  },
  {
   "cell_type": "code",
   "execution_count": 8,
   "metadata": {},
   "outputs": [
    {
     "name": "stderr",
     "output_type": "stream",
     "text": [
      "2025-01-05 17:50:00 - langchain_text_splitters.base - WARNING - base.py:122 - _merge_splits() - Created a chunk of size 120, which is longer than the specified 5\n",
      "2025-01-05 17:50:00 - langchain_text_splitters.base - WARNING - base.py:122 - _merge_splits() - Created a chunk of size 129, which is longer than the specified 5\n",
      "2025-01-05 17:50:00 - langchain_text_splitters.base - WARNING - base.py:122 - _merge_splits() - Created a chunk of size 148, which is longer than the specified 5\n"
     ]
    },
    {
     "name": "stdout",
     "output_type": "stream",
     "text": [
      "Streaming tokens:\n",
      "a\n",
      "b\n",
      "router is returning:  {'choice': 'translate_chunk', 'chunks': [{'language': 'Albanian', 'text': 'The Metamorphosis might not \"click\" unless you\\'ve experienced the kind of dissociation from reality Kafka is describing', 'character_split': '.', 'index': 0}, {'language': 'Albanian', 'text': 'It also requires you to read the story abstractly—it’s less about what happens and more about how it happens, or why it happens', 'character_split': '.', 'index': 1}, {'language': 'Albanian', 'text': 'If you’re looking for a straightforward story, Kafka’s stuff will probably frustrate you, because the disorienting, anxious effect \\nis intentional', 'character_split': '.', 'index': 2}, {'language': 'Italian', 'text': 'The Metamorphosis might not \"click\" unless you\\'ve experienced the kind of dissociation from reality Kafka is describing', 'character_split': '.', 'index': 0}, {'language': 'Italian', 'text': 'It also requires you to read the story abstractly—it’s less about what happens and more about how it happens, or why it happens', 'character_split': '.', 'index': 1}, {'language': 'Italian', 'text': 'If you’re looking for a straightforward story, Kafka’s stuff will probably frustrate you, because the disorienting, anxious effect \\nis intentional', 'character_split': '.', 'index': 2}, {'language': 'French', 'text': 'The Metamorphosis might not \"click\" unless you\\'ve experienced the kind of dissociation from reality Kafka is describing', 'character_split': '.', 'index': 0}, {'language': 'French', 'text': 'It also requires you to read the story abstractly—it’s less about what happens and more about how it happens, or why it happens', 'character_split': '.', 'index': 1}, {'language': 'French', 'text': 'If you’re looking for a straightforward story, Kafka’s stuff will probably frustrate you, because the disorienting, anxious effect \\nis intentional', 'character_split': '.', 'index': 2}]}\n",
      "Token received: <graphai:start:translate_chunk>\n"
     ]
    },
    {
     "name": "stderr",
     "output_type": "stream",
     "text": [
      "2025-01-05 17:50:01 - httpx - INFO - _client.py:1740 - _send_single_request() - HTTP Request: POST https://api.openai.com/v1/chat/completions \"HTTP/1.1 200 OK\"\n",
      "2025-01-05 17:50:01 - httpx - INFO - _client.py:1740 - _send_single_request() - HTTP Request: POST https://api.openai.com/v1/chat/completions \"HTTP/1.1 200 OK\"\n"
     ]
    },
    {
     "name": "stdout",
     "output_type": "stream",
     "text": [
      "Token received: Translated chunk for Italian\n",
      "Token received: Translated chunk for Italian\n"
     ]
    },
    {
     "name": "stderr",
     "output_type": "stream",
     "text": [
      "2025-01-05 17:50:01 - httpx - INFO - _client.py:1740 - _send_single_request() - HTTP Request: POST https://api.openai.com/v1/chat/completions \"HTTP/1.1 200 OK\"\n",
      "2025-01-05 17:50:01 - httpx - INFO - _client.py:1740 - _send_single_request() - HTTP Request: POST https://api.openai.com/v1/chat/completions \"HTTP/1.1 200 OK\"\n",
      "2025-01-05 17:50:01 - httpx - INFO - _client.py:1740 - _send_single_request() - HTTP Request: POST https://api.openai.com/v1/chat/completions \"HTTP/1.1 200 OK\"\n",
      "2025-01-05 17:50:01 - httpx - INFO - _client.py:1740 - _send_single_request() - HTTP Request: POST https://api.openai.com/v1/chat/completions \"HTTP/1.1 200 OK\"\n"
     ]
    },
    {
     "name": "stdout",
     "output_type": "stream",
     "text": [
      "Token received: Translated chunk for Italian\n",
      "Token received: Translated chunk for Albanian\n",
      "Token received: Translated chunk for Albanian\n",
      "Token received: Translated chunk for Albanian\n"
     ]
    },
    {
     "name": "stderr",
     "output_type": "stream",
     "text": [
      "2025-01-05 17:50:02 - httpx - INFO - _client.py:1740 - _send_single_request() - HTTP Request: POST https://api.openai.com/v1/chat/completions \"HTTP/1.1 200 OK\"\n",
      "2025-01-05 17:50:02 - httpx - INFO - _client.py:1740 - _send_single_request() - HTTP Request: POST https://api.openai.com/v1/chat/completions \"HTTP/1.1 200 OK\"\n",
      "2025-01-05 17:50:02 - httpx - INFO - _client.py:1740 - _send_single_request() - HTTP Request: POST https://api.openai.com/v1/chat/completions \"HTTP/1.1 200 OK\"\n"
     ]
    },
    {
     "name": "stdout",
     "output_type": "stream",
     "text": [
      "Token received: Translated chunk for French\n",
      "Token received: Translated chunk for French\n",
      "Token received: Translated chunk for French\n",
      "Token received: <graphai:end:translate_chunk>\n",
      "Token received: <graphai:END>\n",
      "\n",
      "Final result: {'languages': ['Albanian', 'Italian', 'French'], 'original_text': '\\nThe Metamorphosis might not \"click\" unless you\\'ve experienced the kind of dissociation from reality Kafka is describing. \\nIt also requires you to read the story abstractly—it’s less about what happens and more about how it happens, or why it happens. \\nIf you’re looking for a straightforward story, Kafka’s stuff will probably frustrate you, because the disorienting, anxious effect \\nis intentional.\\n', 'character_split': '.', 'choice': 'translate_chunk', 'chunks': [{'language': 'Albanian', 'text': 'The Metamorphosis might not \"click\" unless you\\'ve experienced the kind of dissociation from reality Kafka is describing', 'character_split': '.', 'index': 0}, {'language': 'Albanian', 'text': 'It also requires you to read the story abstractly—it’s less about what happens and more about how it happens, or why it happens', 'character_split': '.', 'index': 1}, {'language': 'Albanian', 'text': 'If you’re looking for a straightforward story, Kafka’s stuff will probably frustrate you, because the disorienting, anxious effect \\nis intentional', 'character_split': '.', 'index': 2}, {'language': 'Italian', 'text': 'The Metamorphosis might not \"click\" unless you\\'ve experienced the kind of dissociation from reality Kafka is describing', 'character_split': '.', 'index': 0}, {'language': 'Italian', 'text': 'It also requires you to read the story abstractly—it’s less about what happens and more about how it happens, or why it happens', 'character_split': '.', 'index': 1}, {'language': 'Italian', 'text': 'If you’re looking for a straightforward story, Kafka’s stuff will probably frustrate you, because the disorienting, anxious effect \\nis intentional', 'character_split': '.', 'index': 2}, {'language': 'French', 'text': 'The Metamorphosis might not \"click\" unless you\\'ve experienced the kind of dissociation from reality Kafka is describing', 'character_split': '.', 'index': 0}, {'language': 'French', 'text': 'It also requires you to read the story abstractly—it’s less about what happens and more about how it happens, or why it happens', 'character_split': '.', 'index': 1}, {'language': 'French', 'text': 'If you’re looking for a straightforward story, Kafka’s stuff will probably frustrate you, because the disorienting, anxious effect \\nis intentional', 'character_split': '.', 'index': 2}], 'translations': {'Albanian': 'Metamorfoza ndoshta nuk do të \"kapet\" nëse nuk ke përjetuar llojin e shkëputjes nga realiteti që Kafka përshkruan..Kjo kërkon gjithashtu që të lexosh historinë në mënyrë abstrakte—nuk është aq e rëndësishme çfarë ndodh, sa mënyra se si ndodh ose pse ndodh..Nëse po kërkoni një histori të qartë, gjërat e Kafkës ndoshta do t\\'ju shqetësojnë, sepse efekti i çorientimit dhe ankthit është i qëllimshëm..', 'Italian': 'La Metamorfosi potrebbe non \"colpirti\" a meno che tu non abbia vissuto quel tipo di dissociazione dalla realtà che Kafka descrive..Richiede anche di leggere la storia in modo astratto: si tratta meno di ciò che accade e più di come accade, o del perché accade..Se stai cercando una storia semplice, le opere di Kafka probabilmente ti frustreranno, perché l\\'effetto disorientante e ansiogeno è intenzionale..', 'French': 'La Métamorphose ne pourra peut-être pas vous \"parler\" à moins que vous n\\'ayez vécu le genre de dissociation de la réalité que Kafka décrit..Cela nécessite également de lire l\\'histoire de manière abstraite : il s\\'agit moins de ce qui se passe que de la façon dont cela se passe, ou pourquoi cela se passe..Si vous cherchez une histoire simple, les œuvres de Kafka risquent de vous frustrer, car l\\'effet désorientant et anxieux est intentionnel..'}, 'output': {'Albanian': 'Metamorfoza ndoshta nuk do të \"kapet\" nëse nuk ke përjetuar llojin e shkëputjes nga realiteti që Kafka përshkruan..Kjo kërkon gjithashtu që të lexosh historinë në mënyrë abstrakte—nuk është aq e rëndësishme çfarë ndodh, sa mënyra se si ndodh ose pse ndodh..Nëse po kërkoni një histori të qartë, gjërat e Kafkës ndoshta do t\\'ju shqetësojnë, sepse efekti i çorientimit dhe ankthit është i qëllimshëm..', 'Italian': 'La Metamorfosi potrebbe non \"colpirti\" a meno che tu non abbia vissuto quel tipo di dissociazione dalla realtà che Kafka descrive..Richiede anche di leggere la storia in modo astratto: si tratta meno di ciò che accade e più di come accade, o del perché accade..Se stai cercando una storia semplice, le opere di Kafka probabilmente ti frustreranno, perché l\\'effetto disorientante e ansiogeno è intenzionale..', 'French': 'La Métamorphose ne pourra peut-être pas vous \"parler\" à moins que vous n\\'ayez vécu le genre de dissociation de la réalité que Kafka décrit..Cela nécessite également de lire l\\'histoire de manière abstraite : il s\\'agit moins de ce qui se passe que de la façon dont cela se passe, ou pourquoi cela se passe..Si vous cherchez une histoire simple, les œuvres de Kafka risquent de vous frustrer, car l\\'effet désorientant et anxieux est intentionnel..'}}\n"
     ]
    }
   ],
   "source": [
    "graph = Graph()\n",
    "\n",
    "for node_fn in [node_start, translate_chunk, node_end]:\n",
    "    graph.add_node(node_fn)\n",
    "\n",
    "graph.add_router(\n",
    "    sources=[node_start],\n",
    "    router=translation_router,\n",
    "    destinations=[translate_chunk]\n",
    ")\n",
    "\n",
    "graph.add_edge(source=node_start, destination=translation_router)\n",
    "graph.add_edge(source=translate_chunk, destination=node_end)\n",
    "\n",
    "graph.compile()\n",
    "#graph.visualize()\n",
    "\n",
    "\n",
    "initial_state = {\n",
    "    \"languages\": [\"Albanian\", \"Italian\", \"French\"],\n",
    "    \"original_text\": text,\n",
    "    \"character_split\": \".\"\n",
    "}\n",
    "\n",
    "callback = graph.get_callback()\n",
    "response = asyncio.create_task(graph.execute(initial_state))\n",
    "\n",
    "print(\"Streaming tokens:\")\n",
    "async for token in callback.aiter():\n",
    "    print(f\"Token received: {token}\")\n",
    "\n",
    "final_result = await response\n",
    "print(\"\\nFinal result:\", final_result)"
   ]
  },
  {
   "cell_type": "code",
   "execution_count": 9,
   "metadata": {},
   "outputs": [
    {
     "data": {
      "text/plain": [
       "{'Albanian': 'Metamorfoza ndoshta nuk do të \"kapet\" nëse nuk ke përjetuar llojin e shkëputjes nga realiteti që Kafka përshkruan..Kjo kërkon gjithashtu që të lexosh historinë në mënyrë abstrakte—nuk është aq e rëndësishme çfarë ndodh, sa mënyra se si ndodh ose pse ndodh..Nëse po kërkoni një histori të qartë, gjërat e Kafkës ndoshta do t\\'ju shqetësojnë, sepse efekti i çorientimit dhe ankthit është i qëllimshëm..',\n",
       " 'Italian': 'La Metamorfosi potrebbe non \"colpirti\" a meno che tu non abbia vissuto quel tipo di dissociazione dalla realtà che Kafka descrive..Richiede anche di leggere la storia in modo astratto: si tratta meno di ciò che accade e più di come accade, o del perché accade..Se stai cercando una storia semplice, le opere di Kafka probabilmente ti frustreranno, perché l\\'effetto disorientante e ansiogeno è intenzionale..',\n",
       " 'French': 'La Métamorphose ne pourra peut-être pas vous \"parler\" à moins que vous n\\'ayez vécu le genre de dissociation de la réalité que Kafka décrit..Cela nécessite également de lire l\\'histoire de manière abstraite : il s\\'agit moins de ce qui se passe que de la façon dont cela se passe, ou pourquoi cela se passe..Si vous cherchez une histoire simple, les œuvres de Kafka risquent de vous frustrer, car l\\'effet désorientant et anxieux est intentionnel..'}"
      ]
     },
     "execution_count": 9,
     "metadata": {},
     "output_type": "execute_result"
    }
   ],
   "source": [
    "final_result['output']"
   ]
  },
  {
   "cell_type": "code",
   "execution_count": null,
   "metadata": {},
   "outputs": [],
   "source": []
  },
  {
   "cell_type": "code",
   "execution_count": null,
   "metadata": {},
   "outputs": [],
   "source": []
  }
 ],
 "metadata": {
  "kernelspec": {
   "display_name": "venv2",
   "language": "python",
   "name": "python3"
  },
  "language_info": {
   "codemirror_mode": {
    "name": "ipython",
    "version": 3
   },
   "file_extension": ".py",
   "mimetype": "text/x-python",
   "name": "python",
   "nbconvert_exporter": "python",
   "pygments_lexer": "ipython3",
   "version": "3.11.9"
  }
 },
 "nbformat": 4,
 "nbformat_minor": 2
}
